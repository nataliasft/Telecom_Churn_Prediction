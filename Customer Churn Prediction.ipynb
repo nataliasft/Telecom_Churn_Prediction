{
  "nbformat": 4,
  "nbformat_minor": 0,
  "metadata": {
    "colab": {
      "provenance": []
    },
    "kernelspec": {
      "name": "python3",
      "display_name": "Python 3"
    },
    "language_info": {
      "name": "python"
    }
  },
  "cells": [
    {
      "cell_type": "markdown",
      "source": [
        "# Import Data & Library"
      ],
      "metadata": {
        "id": "Py-HZ-xgt6gg"
      }
    },
    {
      "cell_type": "code",
      "source": [
        "import pandas as pd\n",
        "import numpy as np\n",
        "import matplotlib.pyplot as plt\n",
        "import seaborn as sns \n",
        "\n",
        "from sklearn.feature_selection import SelectKBest, f_classif, chi2\n",
        "from sklearn import preprocessing\n",
        "\n",
        "from statistics import mean \n",
        "from sklearn.model_selection import StratifiedKFold\n",
        "\n",
        "from sklearn import tree\n",
        "from sklearn import svm\n",
        "from sklearn import ensemble\n",
        "from sklearn import neighbors\n",
        "from sklearn import linear_model\n",
        "from sklearn import metrics"
      ],
      "metadata": {
        "id": "3MpS5YGkv9sM"
      },
      "execution_count": null,
      "outputs": []
    },
    {
      "cell_type": "code",
      "source": [
        "df = pd.read_csv('/content/train.csv')\n",
        "df_test = pd.read_csv('/content/test.csv')"
      ],
      "metadata": {
        "id": "c9U7HXfAu_7I"
      },
      "execution_count": null,
      "outputs": []
    },
    {
      "cell_type": "markdown",
      "source": [
        "# EDA"
      ],
      "metadata": {
        "id": "p-XAT5Mvt9a_"
      }
    },
    {
      "cell_type": "code",
      "source": [
        "df.info()"
      ],
      "metadata": {
        "colab": {
          "base_uri": "https://localhost:8080/"
        },
        "id": "RLEghm22wK-9",
        "outputId": "1ab4c0d4-7326-4369-991a-c209c1ab7b46"
      },
      "execution_count": null,
      "outputs": [
        {
          "output_type": "stream",
          "name": "stdout",
          "text": [
            "<class 'pandas.core.frame.DataFrame'>\n",
            "RangeIndex: 4250 entries, 0 to 4249\n",
            "Data columns (total 20 columns):\n",
            " #   Column                         Non-Null Count  Dtype  \n",
            "---  ------                         --------------  -----  \n",
            " 0   state                          4250 non-null   object \n",
            " 1   account_length                 4250 non-null   int64  \n",
            " 2   area_code                      4250 non-null   object \n",
            " 3   international_plan             4250 non-null   object \n",
            " 4   voice_mail_plan                4250 non-null   object \n",
            " 5   number_vmail_messages          4250 non-null   int64  \n",
            " 6   total_day_minutes              4250 non-null   float64\n",
            " 7   total_day_calls                4250 non-null   int64  \n",
            " 8   total_day_charge               4250 non-null   float64\n",
            " 9   total_eve_minutes              4250 non-null   float64\n",
            " 10  total_eve_calls                4250 non-null   int64  \n",
            " 11  total_eve_charge               4250 non-null   float64\n",
            " 12  total_night_minutes            4250 non-null   float64\n",
            " 13  total_night_calls              4250 non-null   int64  \n",
            " 14  total_night_charge             4250 non-null   float64\n",
            " 15  total_intl_minutes             4250 non-null   float64\n",
            " 16  total_intl_calls               4250 non-null   int64  \n",
            " 17  total_intl_charge              4250 non-null   float64\n",
            " 18  number_customer_service_calls  4250 non-null   int64  \n",
            " 19  churn                          4250 non-null   object \n",
            "dtypes: float64(8), int64(7), object(5)\n",
            "memory usage: 664.2+ KB\n"
          ]
        }
      ]
    },
    {
      "cell_type": "markdown",
      "source": [
        "- Pada data train terdapat 4250 jumlah data dengan 20 kolom\n",
        "- Tidak terdapat data null pada data latih\n",
        "- Variabel kualitatif: state, area code, international plan, voice mail plan"
      ],
      "metadata": {
        "id": "wxeO4_cc0otm"
      }
    },
    {
      "cell_type": "code",
      "source": [
        "df.head(10)"
      ],
      "metadata": {
        "colab": {
          "base_uri": "https://localhost:8080/",
          "height": 340
        },
        "id": "JjTbRj3avin5",
        "outputId": "025e8088-6817-4ddd-f3bf-ec3f379889b7"
      },
      "execution_count": null,
      "outputs": [
        {
          "output_type": "execute_result",
          "data": {
            "text/plain": [
              "  state  account_length      area_code international_plan voice_mail_plan  \\\n",
              "0    OH             107  area_code_415                 no             yes   \n",
              "1    NJ             137  area_code_415                 no              no   \n",
              "2    OH              84  area_code_408                yes              no   \n",
              "3    OK              75  area_code_415                yes              no   \n",
              "4    MA             121  area_code_510                 no             yes   \n",
              "5    MO             147  area_code_415                yes              no   \n",
              "6    LA             117  area_code_408                 no              no   \n",
              "7    WV             141  area_code_415                yes             yes   \n",
              "8    IN              65  area_code_415                 no              no   \n",
              "9    RI              74  area_code_415                 no              no   \n",
              "\n",
              "   number_vmail_messages  total_day_minutes  total_day_calls  \\\n",
              "0                     26              161.6              123   \n",
              "1                      0              243.4              114   \n",
              "2                      0              299.4               71   \n",
              "3                      0              166.7              113   \n",
              "4                     24              218.2               88   \n",
              "5                      0              157.0               79   \n",
              "6                      0              184.5               97   \n",
              "7                     37              258.6               84   \n",
              "8                      0              129.1              137   \n",
              "9                      0              187.7              127   \n",
              "\n",
              "   total_day_charge  total_eve_minutes  total_eve_calls  total_eve_charge  \\\n",
              "0             27.47              195.5              103             16.62   \n",
              "1             41.38              121.2              110             10.30   \n",
              "2             50.90               61.9               88              5.26   \n",
              "3             28.34              148.3              122             12.61   \n",
              "4             37.09              348.5              108             29.62   \n",
              "5             26.69              103.1               94              8.76   \n",
              "6             31.37              351.6               80             29.89   \n",
              "7             43.96              222.0              111             18.87   \n",
              "8             21.95              228.5               83             19.42   \n",
              "9             31.91              163.4              148             13.89   \n",
              "\n",
              "   total_night_minutes  total_night_calls  total_night_charge  \\\n",
              "0                254.4                103               11.45   \n",
              "1                162.6                104                7.32   \n",
              "2                196.9                 89                8.86   \n",
              "3                186.9                121                8.41   \n",
              "4                212.6                118                9.57   \n",
              "5                211.8                 96                9.53   \n",
              "6                215.8                 90                9.71   \n",
              "7                326.4                 97               14.69   \n",
              "8                208.8                111                9.40   \n",
              "9                196.0                 94                8.82   \n",
              "\n",
              "   total_intl_minutes  total_intl_calls  total_intl_charge  \\\n",
              "0                13.7                 3               3.70   \n",
              "1                12.2                 5               3.29   \n",
              "2                 6.6                 7               1.78   \n",
              "3                10.1                 3               2.73   \n",
              "4                 7.5                 7               2.03   \n",
              "5                 7.1                 6               1.92   \n",
              "6                 8.7                 4               2.35   \n",
              "7                11.2                 5               3.02   \n",
              "8                12.7                 6               3.43   \n",
              "9                 9.1                 5               2.46   \n",
              "\n",
              "   number_customer_service_calls churn  \n",
              "0                              1    no  \n",
              "1                              0    no  \n",
              "2                              2    no  \n",
              "3                              3    no  \n",
              "4                              3    no  \n",
              "5                              0    no  \n",
              "6                              1    no  \n",
              "7                              0    no  \n",
              "8                              4   yes  \n",
              "9                              0    no  "
            ],
            "text/html": [
              "\n",
              "  <div id=\"df-120ba966-e321-451a-a097-3f3f41ad1f22\">\n",
              "    <div class=\"colab-df-container\">\n",
              "      <div>\n",
              "<style scoped>\n",
              "    .dataframe tbody tr th:only-of-type {\n",
              "        vertical-align: middle;\n",
              "    }\n",
              "\n",
              "    .dataframe tbody tr th {\n",
              "        vertical-align: top;\n",
              "    }\n",
              "\n",
              "    .dataframe thead th {\n",
              "        text-align: right;\n",
              "    }\n",
              "</style>\n",
              "<table border=\"1\" class=\"dataframe\">\n",
              "  <thead>\n",
              "    <tr style=\"text-align: right;\">\n",
              "      <th></th>\n",
              "      <th>state</th>\n",
              "      <th>account_length</th>\n",
              "      <th>area_code</th>\n",
              "      <th>international_plan</th>\n",
              "      <th>voice_mail_plan</th>\n",
              "      <th>number_vmail_messages</th>\n",
              "      <th>total_day_minutes</th>\n",
              "      <th>total_day_calls</th>\n",
              "      <th>total_day_charge</th>\n",
              "      <th>total_eve_minutes</th>\n",
              "      <th>total_eve_calls</th>\n",
              "      <th>total_eve_charge</th>\n",
              "      <th>total_night_minutes</th>\n",
              "      <th>total_night_calls</th>\n",
              "      <th>total_night_charge</th>\n",
              "      <th>total_intl_minutes</th>\n",
              "      <th>total_intl_calls</th>\n",
              "      <th>total_intl_charge</th>\n",
              "      <th>number_customer_service_calls</th>\n",
              "      <th>churn</th>\n",
              "    </tr>\n",
              "  </thead>\n",
              "  <tbody>\n",
              "    <tr>\n",
              "      <th>0</th>\n",
              "      <td>OH</td>\n",
              "      <td>107</td>\n",
              "      <td>area_code_415</td>\n",
              "      <td>no</td>\n",
              "      <td>yes</td>\n",
              "      <td>26</td>\n",
              "      <td>161.6</td>\n",
              "      <td>123</td>\n",
              "      <td>27.47</td>\n",
              "      <td>195.5</td>\n",
              "      <td>103</td>\n",
              "      <td>16.62</td>\n",
              "      <td>254.4</td>\n",
              "      <td>103</td>\n",
              "      <td>11.45</td>\n",
              "      <td>13.7</td>\n",
              "      <td>3</td>\n",
              "      <td>3.70</td>\n",
              "      <td>1</td>\n",
              "      <td>no</td>\n",
              "    </tr>\n",
              "    <tr>\n",
              "      <th>1</th>\n",
              "      <td>NJ</td>\n",
              "      <td>137</td>\n",
              "      <td>area_code_415</td>\n",
              "      <td>no</td>\n",
              "      <td>no</td>\n",
              "      <td>0</td>\n",
              "      <td>243.4</td>\n",
              "      <td>114</td>\n",
              "      <td>41.38</td>\n",
              "      <td>121.2</td>\n",
              "      <td>110</td>\n",
              "      <td>10.30</td>\n",
              "      <td>162.6</td>\n",
              "      <td>104</td>\n",
              "      <td>7.32</td>\n",
              "      <td>12.2</td>\n",
              "      <td>5</td>\n",
              "      <td>3.29</td>\n",
              "      <td>0</td>\n",
              "      <td>no</td>\n",
              "    </tr>\n",
              "    <tr>\n",
              "      <th>2</th>\n",
              "      <td>OH</td>\n",
              "      <td>84</td>\n",
              "      <td>area_code_408</td>\n",
              "      <td>yes</td>\n",
              "      <td>no</td>\n",
              "      <td>0</td>\n",
              "      <td>299.4</td>\n",
              "      <td>71</td>\n",
              "      <td>50.90</td>\n",
              "      <td>61.9</td>\n",
              "      <td>88</td>\n",
              "      <td>5.26</td>\n",
              "      <td>196.9</td>\n",
              "      <td>89</td>\n",
              "      <td>8.86</td>\n",
              "      <td>6.6</td>\n",
              "      <td>7</td>\n",
              "      <td>1.78</td>\n",
              "      <td>2</td>\n",
              "      <td>no</td>\n",
              "    </tr>\n",
              "    <tr>\n",
              "      <th>3</th>\n",
              "      <td>OK</td>\n",
              "      <td>75</td>\n",
              "      <td>area_code_415</td>\n",
              "      <td>yes</td>\n",
              "      <td>no</td>\n",
              "      <td>0</td>\n",
              "      <td>166.7</td>\n",
              "      <td>113</td>\n",
              "      <td>28.34</td>\n",
              "      <td>148.3</td>\n",
              "      <td>122</td>\n",
              "      <td>12.61</td>\n",
              "      <td>186.9</td>\n",
              "      <td>121</td>\n",
              "      <td>8.41</td>\n",
              "      <td>10.1</td>\n",
              "      <td>3</td>\n",
              "      <td>2.73</td>\n",
              "      <td>3</td>\n",
              "      <td>no</td>\n",
              "    </tr>\n",
              "    <tr>\n",
              "      <th>4</th>\n",
              "      <td>MA</td>\n",
              "      <td>121</td>\n",
              "      <td>area_code_510</td>\n",
              "      <td>no</td>\n",
              "      <td>yes</td>\n",
              "      <td>24</td>\n",
              "      <td>218.2</td>\n",
              "      <td>88</td>\n",
              "      <td>37.09</td>\n",
              "      <td>348.5</td>\n",
              "      <td>108</td>\n",
              "      <td>29.62</td>\n",
              "      <td>212.6</td>\n",
              "      <td>118</td>\n",
              "      <td>9.57</td>\n",
              "      <td>7.5</td>\n",
              "      <td>7</td>\n",
              "      <td>2.03</td>\n",
              "      <td>3</td>\n",
              "      <td>no</td>\n",
              "    </tr>\n",
              "    <tr>\n",
              "      <th>5</th>\n",
              "      <td>MO</td>\n",
              "      <td>147</td>\n",
              "      <td>area_code_415</td>\n",
              "      <td>yes</td>\n",
              "      <td>no</td>\n",
              "      <td>0</td>\n",
              "      <td>157.0</td>\n",
              "      <td>79</td>\n",
              "      <td>26.69</td>\n",
              "      <td>103.1</td>\n",
              "      <td>94</td>\n",
              "      <td>8.76</td>\n",
              "      <td>211.8</td>\n",
              "      <td>96</td>\n",
              "      <td>9.53</td>\n",
              "      <td>7.1</td>\n",
              "      <td>6</td>\n",
              "      <td>1.92</td>\n",
              "      <td>0</td>\n",
              "      <td>no</td>\n",
              "    </tr>\n",
              "    <tr>\n",
              "      <th>6</th>\n",
              "      <td>LA</td>\n",
              "      <td>117</td>\n",
              "      <td>area_code_408</td>\n",
              "      <td>no</td>\n",
              "      <td>no</td>\n",
              "      <td>0</td>\n",
              "      <td>184.5</td>\n",
              "      <td>97</td>\n",
              "      <td>31.37</td>\n",
              "      <td>351.6</td>\n",
              "      <td>80</td>\n",
              "      <td>29.89</td>\n",
              "      <td>215.8</td>\n",
              "      <td>90</td>\n",
              "      <td>9.71</td>\n",
              "      <td>8.7</td>\n",
              "      <td>4</td>\n",
              "      <td>2.35</td>\n",
              "      <td>1</td>\n",
              "      <td>no</td>\n",
              "    </tr>\n",
              "    <tr>\n",
              "      <th>7</th>\n",
              "      <td>WV</td>\n",
              "      <td>141</td>\n",
              "      <td>area_code_415</td>\n",
              "      <td>yes</td>\n",
              "      <td>yes</td>\n",
              "      <td>37</td>\n",
              "      <td>258.6</td>\n",
              "      <td>84</td>\n",
              "      <td>43.96</td>\n",
              "      <td>222.0</td>\n",
              "      <td>111</td>\n",
              "      <td>18.87</td>\n",
              "      <td>326.4</td>\n",
              "      <td>97</td>\n",
              "      <td>14.69</td>\n",
              "      <td>11.2</td>\n",
              "      <td>5</td>\n",
              "      <td>3.02</td>\n",
              "      <td>0</td>\n",
              "      <td>no</td>\n",
              "    </tr>\n",
              "    <tr>\n",
              "      <th>8</th>\n",
              "      <td>IN</td>\n",
              "      <td>65</td>\n",
              "      <td>area_code_415</td>\n",
              "      <td>no</td>\n",
              "      <td>no</td>\n",
              "      <td>0</td>\n",
              "      <td>129.1</td>\n",
              "      <td>137</td>\n",
              "      <td>21.95</td>\n",
              "      <td>228.5</td>\n",
              "      <td>83</td>\n",
              "      <td>19.42</td>\n",
              "      <td>208.8</td>\n",
              "      <td>111</td>\n",
              "      <td>9.40</td>\n",
              "      <td>12.7</td>\n",
              "      <td>6</td>\n",
              "      <td>3.43</td>\n",
              "      <td>4</td>\n",
              "      <td>yes</td>\n",
              "    </tr>\n",
              "    <tr>\n",
              "      <th>9</th>\n",
              "      <td>RI</td>\n",
              "      <td>74</td>\n",
              "      <td>area_code_415</td>\n",
              "      <td>no</td>\n",
              "      <td>no</td>\n",
              "      <td>0</td>\n",
              "      <td>187.7</td>\n",
              "      <td>127</td>\n",
              "      <td>31.91</td>\n",
              "      <td>163.4</td>\n",
              "      <td>148</td>\n",
              "      <td>13.89</td>\n",
              "      <td>196.0</td>\n",
              "      <td>94</td>\n",
              "      <td>8.82</td>\n",
              "      <td>9.1</td>\n",
              "      <td>5</td>\n",
              "      <td>2.46</td>\n",
              "      <td>0</td>\n",
              "      <td>no</td>\n",
              "    </tr>\n",
              "  </tbody>\n",
              "</table>\n",
              "</div>\n",
              "      <button class=\"colab-df-convert\" onclick=\"convertToInteractive('df-120ba966-e321-451a-a097-3f3f41ad1f22')\"\n",
              "              title=\"Convert this dataframe to an interactive table.\"\n",
              "              style=\"display:none;\">\n",
              "        \n",
              "  <svg xmlns=\"http://www.w3.org/2000/svg\" height=\"24px\"viewBox=\"0 0 24 24\"\n",
              "       width=\"24px\">\n",
              "    <path d=\"M0 0h24v24H0V0z\" fill=\"none\"/>\n",
              "    <path d=\"M18.56 5.44l.94 2.06.94-2.06 2.06-.94-2.06-.94-.94-2.06-.94 2.06-2.06.94zm-11 1L8.5 8.5l.94-2.06 2.06-.94-2.06-.94L8.5 2.5l-.94 2.06-2.06.94zm10 10l.94 2.06.94-2.06 2.06-.94-2.06-.94-.94-2.06-.94 2.06-2.06.94z\"/><path d=\"M17.41 7.96l-1.37-1.37c-.4-.4-.92-.59-1.43-.59-.52 0-1.04.2-1.43.59L10.3 9.45l-7.72 7.72c-.78.78-.78 2.05 0 2.83L4 21.41c.39.39.9.59 1.41.59.51 0 1.02-.2 1.41-.59l7.78-7.78 2.81-2.81c.8-.78.8-2.07 0-2.86zM5.41 20L4 18.59l7.72-7.72 1.47 1.35L5.41 20z\"/>\n",
              "  </svg>\n",
              "      </button>\n",
              "      \n",
              "  <style>\n",
              "    .colab-df-container {\n",
              "      display:flex;\n",
              "      flex-wrap:wrap;\n",
              "      gap: 12px;\n",
              "    }\n",
              "\n",
              "    .colab-df-convert {\n",
              "      background-color: #E8F0FE;\n",
              "      border: none;\n",
              "      border-radius: 50%;\n",
              "      cursor: pointer;\n",
              "      display: none;\n",
              "      fill: #1967D2;\n",
              "      height: 32px;\n",
              "      padding: 0 0 0 0;\n",
              "      width: 32px;\n",
              "    }\n",
              "\n",
              "    .colab-df-convert:hover {\n",
              "      background-color: #E2EBFA;\n",
              "      box-shadow: 0px 1px 2px rgba(60, 64, 67, 0.3), 0px 1px 3px 1px rgba(60, 64, 67, 0.15);\n",
              "      fill: #174EA6;\n",
              "    }\n",
              "\n",
              "    [theme=dark] .colab-df-convert {\n",
              "      background-color: #3B4455;\n",
              "      fill: #D2E3FC;\n",
              "    }\n",
              "\n",
              "    [theme=dark] .colab-df-convert:hover {\n",
              "      background-color: #434B5C;\n",
              "      box-shadow: 0px 1px 3px 1px rgba(0, 0, 0, 0.15);\n",
              "      filter: drop-shadow(0px 1px 2px rgba(0, 0, 0, 0.3));\n",
              "      fill: #FFFFFF;\n",
              "    }\n",
              "  </style>\n",
              "\n",
              "      <script>\n",
              "        const buttonEl =\n",
              "          document.querySelector('#df-120ba966-e321-451a-a097-3f3f41ad1f22 button.colab-df-convert');\n",
              "        buttonEl.style.display =\n",
              "          google.colab.kernel.accessAllowed ? 'block' : 'none';\n",
              "\n",
              "        async function convertToInteractive(key) {\n",
              "          const element = document.querySelector('#df-120ba966-e321-451a-a097-3f3f41ad1f22');\n",
              "          const dataTable =\n",
              "            await google.colab.kernel.invokeFunction('convertToInteractive',\n",
              "                                                     [key], {});\n",
              "          if (!dataTable) return;\n",
              "\n",
              "          const docLinkHtml = 'Like what you see? Visit the ' +\n",
              "            '<a target=\"_blank\" href=https://colab.research.google.com/notebooks/data_table.ipynb>data table notebook</a>'\n",
              "            + ' to learn more about interactive tables.';\n",
              "          element.innerHTML = '';\n",
              "          dataTable['output_type'] = 'display_data';\n",
              "          await google.colab.output.renderOutput(dataTable, element);\n",
              "          const docLink = document.createElement('div');\n",
              "          docLink.innerHTML = docLinkHtml;\n",
              "          element.appendChild(docLink);\n",
              "        }\n",
              "      </script>\n",
              "    </div>\n",
              "  </div>\n",
              "  "
            ]
          },
          "metadata": {},
          "execution_count": 4
        }
      ]
    },
    {
      "cell_type": "code",
      "source": [
        "df.describe()"
      ],
      "metadata": {
        "colab": {
          "base_uri": "https://localhost:8080/",
          "height": 297
        },
        "id": "h1UDzJqi0kR4",
        "outputId": "7c414c26-7a35-4ef9-9e39-51ad93a41ff0"
      },
      "execution_count": null,
      "outputs": [
        {
          "output_type": "execute_result",
          "data": {
            "text/plain": [
              "       account_length  number_vmail_messages  total_day_minutes  \\\n",
              "count     4250.000000            4250.000000        4250.000000   \n",
              "mean       100.236235               7.631765         180.259600   \n",
              "std         39.698401              13.439882          54.012373   \n",
              "min          1.000000               0.000000           0.000000   \n",
              "25%         73.000000               0.000000         143.325000   \n",
              "50%        100.000000               0.000000         180.450000   \n",
              "75%        127.000000              16.000000         216.200000   \n",
              "max        243.000000              52.000000         351.500000   \n",
              "\n",
              "       total_day_calls  total_day_charge  total_eve_minutes  total_eve_calls  \\\n",
              "count      4250.000000       4250.000000        4250.000000      4250.000000   \n",
              "mean         99.907294         30.644682         200.173906       100.176471   \n",
              "std          19.850817          9.182096          50.249518        19.908591   \n",
              "min           0.000000          0.000000           0.000000         0.000000   \n",
              "25%          87.000000         24.365000         165.925000        87.000000   \n",
              "50%         100.000000         30.680000         200.700000       100.000000   \n",
              "75%         113.000000         36.750000         233.775000       114.000000   \n",
              "max         165.000000         59.760000         359.300000       170.000000   \n",
              "\n",
              "       total_eve_charge  total_night_minutes  total_night_calls  \\\n",
              "count       4250.000000          4250.000000        4250.000000   \n",
              "mean          17.015012           200.527882          99.839529   \n",
              "std            4.271212            50.353548          20.093220   \n",
              "min            0.000000             0.000000           0.000000   \n",
              "25%           14.102500           167.225000          86.000000   \n",
              "50%           17.060000           200.450000         100.000000   \n",
              "75%           19.867500           234.700000         113.000000   \n",
              "max           30.540000           395.000000         175.000000   \n",
              "\n",
              "       total_night_charge  total_intl_minutes  total_intl_calls  \\\n",
              "count         4250.000000         4250.000000       4250.000000   \n",
              "mean             9.023892           10.256071          4.426353   \n",
              "std              2.265922            2.760102          2.463069   \n",
              "min              0.000000            0.000000          0.000000   \n",
              "25%              7.522500            8.500000          3.000000   \n",
              "50%              9.020000           10.300000          4.000000   \n",
              "75%             10.560000           12.000000          6.000000   \n",
              "max             17.770000           20.000000         20.000000   \n",
              "\n",
              "       total_intl_charge  number_customer_service_calls  \n",
              "count        4250.000000                    4250.000000  \n",
              "mean            2.769654                       1.559059  \n",
              "std             0.745204                       1.311434  \n",
              "min             0.000000                       0.000000  \n",
              "25%             2.300000                       1.000000  \n",
              "50%             2.780000                       1.000000  \n",
              "75%             3.240000                       2.000000  \n",
              "max             5.400000                       9.000000  "
            ],
            "text/html": [
              "\n",
              "  <div id=\"df-e296816d-a80f-46a5-8468-0104d5a863ed\">\n",
              "    <div class=\"colab-df-container\">\n",
              "      <div>\n",
              "<style scoped>\n",
              "    .dataframe tbody tr th:only-of-type {\n",
              "        vertical-align: middle;\n",
              "    }\n",
              "\n",
              "    .dataframe tbody tr th {\n",
              "        vertical-align: top;\n",
              "    }\n",
              "\n",
              "    .dataframe thead th {\n",
              "        text-align: right;\n",
              "    }\n",
              "</style>\n",
              "<table border=\"1\" class=\"dataframe\">\n",
              "  <thead>\n",
              "    <tr style=\"text-align: right;\">\n",
              "      <th></th>\n",
              "      <th>account_length</th>\n",
              "      <th>number_vmail_messages</th>\n",
              "      <th>total_day_minutes</th>\n",
              "      <th>total_day_calls</th>\n",
              "      <th>total_day_charge</th>\n",
              "      <th>total_eve_minutes</th>\n",
              "      <th>total_eve_calls</th>\n",
              "      <th>total_eve_charge</th>\n",
              "      <th>total_night_minutes</th>\n",
              "      <th>total_night_calls</th>\n",
              "      <th>total_night_charge</th>\n",
              "      <th>total_intl_minutes</th>\n",
              "      <th>total_intl_calls</th>\n",
              "      <th>total_intl_charge</th>\n",
              "      <th>number_customer_service_calls</th>\n",
              "    </tr>\n",
              "  </thead>\n",
              "  <tbody>\n",
              "    <tr>\n",
              "      <th>count</th>\n",
              "      <td>4250.000000</td>\n",
              "      <td>4250.000000</td>\n",
              "      <td>4250.000000</td>\n",
              "      <td>4250.000000</td>\n",
              "      <td>4250.000000</td>\n",
              "      <td>4250.000000</td>\n",
              "      <td>4250.000000</td>\n",
              "      <td>4250.000000</td>\n",
              "      <td>4250.000000</td>\n",
              "      <td>4250.000000</td>\n",
              "      <td>4250.000000</td>\n",
              "      <td>4250.000000</td>\n",
              "      <td>4250.000000</td>\n",
              "      <td>4250.000000</td>\n",
              "      <td>4250.000000</td>\n",
              "    </tr>\n",
              "    <tr>\n",
              "      <th>mean</th>\n",
              "      <td>100.236235</td>\n",
              "      <td>7.631765</td>\n",
              "      <td>180.259600</td>\n",
              "      <td>99.907294</td>\n",
              "      <td>30.644682</td>\n",
              "      <td>200.173906</td>\n",
              "      <td>100.176471</td>\n",
              "      <td>17.015012</td>\n",
              "      <td>200.527882</td>\n",
              "      <td>99.839529</td>\n",
              "      <td>9.023892</td>\n",
              "      <td>10.256071</td>\n",
              "      <td>4.426353</td>\n",
              "      <td>2.769654</td>\n",
              "      <td>1.559059</td>\n",
              "    </tr>\n",
              "    <tr>\n",
              "      <th>std</th>\n",
              "      <td>39.698401</td>\n",
              "      <td>13.439882</td>\n",
              "      <td>54.012373</td>\n",
              "      <td>19.850817</td>\n",
              "      <td>9.182096</td>\n",
              "      <td>50.249518</td>\n",
              "      <td>19.908591</td>\n",
              "      <td>4.271212</td>\n",
              "      <td>50.353548</td>\n",
              "      <td>20.093220</td>\n",
              "      <td>2.265922</td>\n",
              "      <td>2.760102</td>\n",
              "      <td>2.463069</td>\n",
              "      <td>0.745204</td>\n",
              "      <td>1.311434</td>\n",
              "    </tr>\n",
              "    <tr>\n",
              "      <th>min</th>\n",
              "      <td>1.000000</td>\n",
              "      <td>0.000000</td>\n",
              "      <td>0.000000</td>\n",
              "      <td>0.000000</td>\n",
              "      <td>0.000000</td>\n",
              "      <td>0.000000</td>\n",
              "      <td>0.000000</td>\n",
              "      <td>0.000000</td>\n",
              "      <td>0.000000</td>\n",
              "      <td>0.000000</td>\n",
              "      <td>0.000000</td>\n",
              "      <td>0.000000</td>\n",
              "      <td>0.000000</td>\n",
              "      <td>0.000000</td>\n",
              "      <td>0.000000</td>\n",
              "    </tr>\n",
              "    <tr>\n",
              "      <th>25%</th>\n",
              "      <td>73.000000</td>\n",
              "      <td>0.000000</td>\n",
              "      <td>143.325000</td>\n",
              "      <td>87.000000</td>\n",
              "      <td>24.365000</td>\n",
              "      <td>165.925000</td>\n",
              "      <td>87.000000</td>\n",
              "      <td>14.102500</td>\n",
              "      <td>167.225000</td>\n",
              "      <td>86.000000</td>\n",
              "      <td>7.522500</td>\n",
              "      <td>8.500000</td>\n",
              "      <td>3.000000</td>\n",
              "      <td>2.300000</td>\n",
              "      <td>1.000000</td>\n",
              "    </tr>\n",
              "    <tr>\n",
              "      <th>50%</th>\n",
              "      <td>100.000000</td>\n",
              "      <td>0.000000</td>\n",
              "      <td>180.450000</td>\n",
              "      <td>100.000000</td>\n",
              "      <td>30.680000</td>\n",
              "      <td>200.700000</td>\n",
              "      <td>100.000000</td>\n",
              "      <td>17.060000</td>\n",
              "      <td>200.450000</td>\n",
              "      <td>100.000000</td>\n",
              "      <td>9.020000</td>\n",
              "      <td>10.300000</td>\n",
              "      <td>4.000000</td>\n",
              "      <td>2.780000</td>\n",
              "      <td>1.000000</td>\n",
              "    </tr>\n",
              "    <tr>\n",
              "      <th>75%</th>\n",
              "      <td>127.000000</td>\n",
              "      <td>16.000000</td>\n",
              "      <td>216.200000</td>\n",
              "      <td>113.000000</td>\n",
              "      <td>36.750000</td>\n",
              "      <td>233.775000</td>\n",
              "      <td>114.000000</td>\n",
              "      <td>19.867500</td>\n",
              "      <td>234.700000</td>\n",
              "      <td>113.000000</td>\n",
              "      <td>10.560000</td>\n",
              "      <td>12.000000</td>\n",
              "      <td>6.000000</td>\n",
              "      <td>3.240000</td>\n",
              "      <td>2.000000</td>\n",
              "    </tr>\n",
              "    <tr>\n",
              "      <th>max</th>\n",
              "      <td>243.000000</td>\n",
              "      <td>52.000000</td>\n",
              "      <td>351.500000</td>\n",
              "      <td>165.000000</td>\n",
              "      <td>59.760000</td>\n",
              "      <td>359.300000</td>\n",
              "      <td>170.000000</td>\n",
              "      <td>30.540000</td>\n",
              "      <td>395.000000</td>\n",
              "      <td>175.000000</td>\n",
              "      <td>17.770000</td>\n",
              "      <td>20.000000</td>\n",
              "      <td>20.000000</td>\n",
              "      <td>5.400000</td>\n",
              "      <td>9.000000</td>\n",
              "    </tr>\n",
              "  </tbody>\n",
              "</table>\n",
              "</div>\n",
              "      <button class=\"colab-df-convert\" onclick=\"convertToInteractive('df-e296816d-a80f-46a5-8468-0104d5a863ed')\"\n",
              "              title=\"Convert this dataframe to an interactive table.\"\n",
              "              style=\"display:none;\">\n",
              "        \n",
              "  <svg xmlns=\"http://www.w3.org/2000/svg\" height=\"24px\"viewBox=\"0 0 24 24\"\n",
              "       width=\"24px\">\n",
              "    <path d=\"M0 0h24v24H0V0z\" fill=\"none\"/>\n",
              "    <path d=\"M18.56 5.44l.94 2.06.94-2.06 2.06-.94-2.06-.94-.94-2.06-.94 2.06-2.06.94zm-11 1L8.5 8.5l.94-2.06 2.06-.94-2.06-.94L8.5 2.5l-.94 2.06-2.06.94zm10 10l.94 2.06.94-2.06 2.06-.94-2.06-.94-.94-2.06-.94 2.06-2.06.94z\"/><path d=\"M17.41 7.96l-1.37-1.37c-.4-.4-.92-.59-1.43-.59-.52 0-1.04.2-1.43.59L10.3 9.45l-7.72 7.72c-.78.78-.78 2.05 0 2.83L4 21.41c.39.39.9.59 1.41.59.51 0 1.02-.2 1.41-.59l7.78-7.78 2.81-2.81c.8-.78.8-2.07 0-2.86zM5.41 20L4 18.59l7.72-7.72 1.47 1.35L5.41 20z\"/>\n",
              "  </svg>\n",
              "      </button>\n",
              "      \n",
              "  <style>\n",
              "    .colab-df-container {\n",
              "      display:flex;\n",
              "      flex-wrap:wrap;\n",
              "      gap: 12px;\n",
              "    }\n",
              "\n",
              "    .colab-df-convert {\n",
              "      background-color: #E8F0FE;\n",
              "      border: none;\n",
              "      border-radius: 50%;\n",
              "      cursor: pointer;\n",
              "      display: none;\n",
              "      fill: #1967D2;\n",
              "      height: 32px;\n",
              "      padding: 0 0 0 0;\n",
              "      width: 32px;\n",
              "    }\n",
              "\n",
              "    .colab-df-convert:hover {\n",
              "      background-color: #E2EBFA;\n",
              "      box-shadow: 0px 1px 2px rgba(60, 64, 67, 0.3), 0px 1px 3px 1px rgba(60, 64, 67, 0.15);\n",
              "      fill: #174EA6;\n",
              "    }\n",
              "\n",
              "    [theme=dark] .colab-df-convert {\n",
              "      background-color: #3B4455;\n",
              "      fill: #D2E3FC;\n",
              "    }\n",
              "\n",
              "    [theme=dark] .colab-df-convert:hover {\n",
              "      background-color: #434B5C;\n",
              "      box-shadow: 0px 1px 3px 1px rgba(0, 0, 0, 0.15);\n",
              "      filter: drop-shadow(0px 1px 2px rgba(0, 0, 0, 0.3));\n",
              "      fill: #FFFFFF;\n",
              "    }\n",
              "  </style>\n",
              "\n",
              "      <script>\n",
              "        const buttonEl =\n",
              "          document.querySelector('#df-e296816d-a80f-46a5-8468-0104d5a863ed button.colab-df-convert');\n",
              "        buttonEl.style.display =\n",
              "          google.colab.kernel.accessAllowed ? 'block' : 'none';\n",
              "\n",
              "        async function convertToInteractive(key) {\n",
              "          const element = document.querySelector('#df-e296816d-a80f-46a5-8468-0104d5a863ed');\n",
              "          const dataTable =\n",
              "            await google.colab.kernel.invokeFunction('convertToInteractive',\n",
              "                                                     [key], {});\n",
              "          if (!dataTable) return;\n",
              "\n",
              "          const docLinkHtml = 'Like what you see? Visit the ' +\n",
              "            '<a target=\"_blank\" href=https://colab.research.google.com/notebooks/data_table.ipynb>data table notebook</a>'\n",
              "            + ' to learn more about interactive tables.';\n",
              "          element.innerHTML = '';\n",
              "          dataTable['output_type'] = 'display_data';\n",
              "          await google.colab.output.renderOutput(dataTable, element);\n",
              "          const docLink = document.createElement('div');\n",
              "          docLink.innerHTML = docLinkHtml;\n",
              "          element.appendChild(docLink);\n",
              "        }\n",
              "      </script>\n",
              "    </div>\n",
              "  </div>\n",
              "  "
            ]
          },
          "metadata": {},
          "execution_count": 5
        }
      ]
    },
    {
      "cell_type": "code",
      "source": [
        "# Cek jumlah data churn\n",
        "y = df[\"churn\"].value_counts()\n",
        "sns.barplot(y.index, y.values)"
      ],
      "metadata": {
        "colab": {
          "base_uri": "https://localhost:8080/",
          "height": 339
        },
        "id": "KbQt4cj7Zxpo",
        "outputId": "1f9885b6-dace-47c4-a108-fbfc1901f9b3"
      },
      "execution_count": null,
      "outputs": [
        {
          "output_type": "stream",
          "name": "stderr",
          "text": [
            "/usr/local/lib/python3.7/dist-packages/seaborn/_decorators.py:43: FutureWarning: Pass the following variables as keyword args: x, y. From version 0.12, the only valid positional argument will be `data`, and passing other arguments without an explicit keyword will result in an error or misinterpretation.\n",
            "  FutureWarning\n"
          ]
        },
        {
          "output_type": "execute_result",
          "data": {
            "text/plain": [
              "<matplotlib.axes._subplots.AxesSubplot at 0x7f7de3b183d0>"
            ]
          },
          "metadata": {},
          "execution_count": 6
        },
        {
          "output_type": "display_data",
          "data": {
            "text/plain": [
              "<Figure size 432x288 with 1 Axes>"
            ],
            "image/png": "[encoded data removed]"
          },
          "metadata": {
            "needs_background": "light"
          }
        }
      ]
    },
    {
      "cell_type": "markdown",
      "source": [
        "Data tidak seimbang. Data tidak churn > data churn."
      ],
      "metadata": {
        "id": "xYY1teV2ba6U"
      }
    },
    {
      "cell_type": "code",
      "source": [
        "# Churn berdasarkan state\n",
        "df.groupby([\"state\", \"churn\"]).size().unstack().plot(kind='bar', stacked=True, figsize=(30,10)) "
      ],
      "metadata": {
        "colab": {
          "base_uri": "https://localhost:8080/",
          "height": 382
        },
        "id": "zkAOO-LFcDTu",
        "outputId": "2c153eb8-ff5c-4d53-ad99-b84a2f587720"
      },
      "execution_count": null,
      "outputs": [
        {
          "output_type": "execute_result",
          "data": {
            "text/plain": [
              "<matplotlib.axes._subplots.AxesSubplot at 0x7f7de3590f10>"
            ]
          },
          "metadata": {},
          "execution_count": 7
        },
        {
          "output_type": "display_data",
          "data": {
            "text/plain": [
              "<Figure size 2160x720 with 1 Axes>"
            ],
            "image/png": "[encoded data removed]"
          },
          "metadata": {
            "needs_background": "light"
          }
        }
      ]
    },
    {
      "cell_type": "code",
      "source": [
        "# Churn berdasarkan area code\n",
        "df.groupby([\"area_code\", \"churn\"]).size().unstack().plot(kind='bar', stacked=True, figsize=(5,5)) "
      ],
      "metadata": {
        "colab": {
          "base_uri": "https://localhost:8080/",
          "height": 418
        },
        "id": "10qc6o6Vbs20",
        "outputId": "0e203d65-3402-493f-c891-6a77bfae2c1c"
      },
      "execution_count": null,
      "outputs": [
        {
          "output_type": "execute_result",
          "data": {
            "text/plain": [
              "<matplotlib.axes._subplots.AxesSubplot at 0x7f7de329d5d0>"
            ]
          },
          "metadata": {},
          "execution_count": 8
        },
        {
          "output_type": "display_data",
          "data": {
            "text/plain": [
              "<Figure size 360x360 with 1 Axes>"
            ],
            "image/png": "[encoded data removed]"
          },
          "metadata": {
            "needs_background": "light"
          }
        }
      ]
    },
    {
      "cell_type": "code",
      "source": [
        "# Churn berdasarkan international plan\n",
        "df.groupby([\"international_plan\", \"churn\"]).size().unstack().plot(kind='bar', stacked=True, figsize=(5,5)) "
      ],
      "metadata": {
        "colab": {
          "base_uri": "https://localhost:8080/",
          "height": 361
        },
        "id": "NQCaQr7UcXaC",
        "outputId": "695d29c3-07d3-4b33-b0b4-73da8e0d158b"
      },
      "execution_count": null,
      "outputs": [
        {
          "output_type": "execute_result",
          "data": {
            "text/plain": [
              "<matplotlib.axes._subplots.AxesSubplot at 0x7f7de3294d50>"
            ]
          },
          "metadata": {},
          "execution_count": 9
        },
        {
          "output_type": "display_data",
          "data": {
            "text/plain": [
              "<Figure size 360x360 with 1 Axes>"
            ],
            "image/png": "[encoded data removed]"
          },
          "metadata": {
            "needs_background": "light"
          }
        }
      ]
    },
    {
      "cell_type": "code",
      "source": [
        "# Churn berdasarkan voice mail plan\n",
        "df.groupby([\"voice_mail_plan\", \"churn\"]).size().unstack().plot(kind='bar', stacked=True, figsize=(5,5)) "
      ],
      "metadata": {
        "colab": {
          "base_uri": "https://localhost:8080/",
          "height": 360
        },
        "id": "IBQP_bDTcj_h",
        "outputId": "ce63304e-e25f-4ac6-a64f-4f5a542fdf1d"
      },
      "execution_count": null,
      "outputs": [
        {
          "output_type": "execute_result",
          "data": {
            "text/plain": [
              "<matplotlib.axes._subplots.AxesSubplot at 0x7f7de3dc4b10>"
            ]
          },
          "metadata": {},
          "execution_count": 10
        },
        {
          "output_type": "display_data",
          "data": {
            "text/plain": [
              "<Figure size 360x360 with 1 Axes>"
            ],
            "image/png": "[encoded data removed]"
          },
          "metadata": {
            "needs_background": "light"
          }
        }
      ]
    },
    {
      "cell_type": "markdown",
      "source": [
        "# Data Pre-processing"
      ],
      "metadata": {
        "id": "ixLqlvWQuAHv"
      }
    },
    {
      "cell_type": "markdown",
      "source": [
        "## Data Cleaning"
      ],
      "metadata": {
        "id": "JMSHcm1f4QBR"
      }
    },
    {
      "cell_type": "markdown",
      "source": [
        "### Missing Value"
      ],
      "metadata": {
        "id": "z_57YSrx4TFv"
      }
    },
    {
      "cell_type": "markdown",
      "source": [
        "Berdasarkan df.info() pada section EDA, tidak terdapat missing value pada data train"
      ],
      "metadata": {
        "id": "6IkIaRzy4aan"
      }
    },
    {
      "cell_type": "markdown",
      "source": [
        "### Resolve inconsistencies"
      ],
      "metadata": {
        "id": "XLVQDkir4hhI"
      }
    },
    {
      "cell_type": "code",
      "source": [
        "# Cek isi dari variabel kualitatif\n",
        "print('state : ', df['state'].unique())\n",
        "print('area_code : ', df['area_code'].unique())\n",
        "print('international_plan : ', df['international_plan'].unique())\n",
        "print('voice_mail_plan : ', df['voice_mail_plan'].unique())"
      ],
      "metadata": {
        "colab": {
          "base_uri": "https://localhost:8080/"
        },
        "id": "TrhFfndrzaHh",
        "outputId": "4fdcb61f-718a-4f9a-902b-19b9ae0331c4"
      },
      "execution_count": null,
      "outputs": [
        {
          "output_type": "stream",
          "name": "stdout",
          "text": [
            "state :  ['OH' 'NJ' 'OK' 'MA' 'MO' 'LA' 'WV' 'IN' 'RI' 'IA' 'MT' 'NY' 'ID' 'VA'\n",
            " 'TX' 'FL' 'CO' 'AZ' 'SC' 'WY' 'HI' 'NH' 'AK' 'GA' 'MD' 'AR' 'WI' 'OR'\n",
            " 'MI' 'DE' 'UT' 'CA' 'SD' 'NC' 'WA' 'MN' 'NM' 'NV' 'DC' 'VT' 'KY' 'ME'\n",
            " 'MS' 'AL' 'NE' 'KS' 'TN' 'IL' 'PA' 'CT' 'ND']\n",
            "area_code :  ['area_code_415' 'area_code_408' 'area_code_510']\n",
            "international_plan :  ['no' 'yes']\n",
            "voice_mail_plan :  ['yes' 'no']\n"
          ]
        }
      ]
    },
    {
      "cell_type": "markdown",
      "source": [
        "Sudah konsisten"
      ],
      "metadata": {
        "id": "phBQoTMO5Dck"
      }
    },
    {
      "cell_type": "markdown",
      "source": [
        "### Delete duplicate"
      ],
      "metadata": {
        "id": "Ri8iJnHS5HUz"
      }
    },
    {
      "cell_type": "code",
      "source": [
        "# cek data duplikat\n",
        "df.duplicated().sum()"
      ],
      "metadata": {
        "colab": {
          "base_uri": "https://localhost:8080/"
        },
        "id": "wguZ4W4F0_yl",
        "outputId": "1dad7d74-8396-45df-c900-f567c932ae36"
      },
      "execution_count": null,
      "outputs": [
        {
          "output_type": "execute_result",
          "data": {
            "text/plain": [
              "0"
            ]
          },
          "metadata": {},
          "execution_count": 12
        }
      ]
    },
    {
      "cell_type": "markdown",
      "source": [
        "Tidak ada data duplikat"
      ],
      "metadata": {
        "id": "4ZEFWJ7n5K1X"
      }
    },
    {
      "cell_type": "markdown",
      "source": [
        "## Detect Outliers"
      ],
      "metadata": {
        "id": "nv1DMPWJ5QgQ"
      }
    },
    {
      "cell_type": "code",
      "source": [
        "# cek kemiringan data\n",
        "df.skew()"
      ],
      "metadata": {
        "colab": {
          "base_uri": "https://localhost:8080/"
        },
        "id": "5WM8Kh_v1NU8",
        "outputId": "6d9fbac0-b7f9-4c4b-eb2a-a7a6f1073696"
      },
      "execution_count": null,
      "outputs": [
        {
          "output_type": "stream",
          "name": "stderr",
          "text": [
            "/usr/local/lib/python3.7/dist-packages/ipykernel_launcher.py:2: FutureWarning: Dropping of nuisance columns in DataFrame reductions (with 'numeric_only=None') is deprecated; in a future version this will raise TypeError.  Select only valid columns before calling the reduction.\n",
            "  \n"
          ]
        },
        {
          "output_type": "execute_result",
          "data": {
            "text/plain": [
              "account_length                   0.122327\n",
              "number_vmail_messages            1.373091\n",
              "total_day_minutes               -0.006910\n",
              "total_day_calls                 -0.085812\n",
              "total_day_charge                -0.006913\n",
              "total_eve_minutes               -0.030415\n",
              "total_eve_calls                 -0.020812\n",
              "total_eve_charge                -0.030388\n",
              "total_night_minutes              0.008491\n",
              "total_night_calls                0.005273\n",
              "total_night_charge               0.008445\n",
              "total_intl_minutes              -0.241360\n",
              "total_intl_calls                 1.360122\n",
              "total_intl_charge               -0.241671\n",
              "number_customer_service_calls    1.082692\n",
              "dtype: float64"
            ]
          },
          "metadata": {},
          "execution_count": 13
        }
      ]
    },
    {
      "cell_type": "code",
      "source": [
        "# Kolom numerik\n",
        "num_cols = df.select_dtypes([np.number]).columns\n",
        "num_cols"
      ],
      "metadata": {
        "colab": {
          "base_uri": "https://localhost:8080/"
        },
        "id": "yUt-TUU5YHlI",
        "outputId": "e8e9ed8a-fb3b-4b5d-94c7-ed4e1391fa9b"
      },
      "execution_count": null,
      "outputs": [
        {
          "output_type": "execute_result",
          "data": {
            "text/plain": [
              "Index(['account_length', 'number_vmail_messages', 'total_day_minutes',\n",
              "       'total_day_calls', 'total_day_charge', 'total_eve_minutes',\n",
              "       'total_eve_calls', 'total_eve_charge', 'total_night_minutes',\n",
              "       'total_night_calls', 'total_night_charge', 'total_intl_minutes',\n",
              "       'total_intl_calls', 'total_intl_charge',\n",
              "       'number_customer_service_calls'],\n",
              "      dtype='object')"
            ]
          },
          "metadata": {},
          "execution_count": 14
        }
      ]
    },
    {
      "cell_type": "code",
      "source": [
        "print(f'Jumlah baris sebelum memfilter outlier: {len(df)}\\n')\n",
        "\n",
        "filtered_entries = np.array([True] * len(df))\n",
        "for col in num_cols:\n",
        "    Q1 = df[col].quantile(0.25)\n",
        "    Q3 = df[col].quantile(0.75)\n",
        "    IQR = Q3 - Q1\n",
        "    low_limit = Q1 - (IQR * 1.5)\n",
        "    high_limit = Q3 + (IQR * 1.5)\n",
        "\n",
        "    filtered_entries = ((df[col] >= low_limit) & (df[col] <= high_limit)) & filtered_entries\n",
        "    print(\"Jumlah outlier {}: {}\".format(col, 4250-filtered_entries.sum()))\n",
        "    \n",
        "df2 = df[filtered_entries]\n",
        "\n",
        "print(f'\\nJumlah baris jika memfilter outlier: {len(df2)}')"
      ],
      "metadata": {
        "colab": {
          "base_uri": "https://localhost:8080/"
        },
        "id": "JY_ogxUS5UNc",
        "outputId": "3c153cad-f98d-4591-c61a-834fe20752a9"
      },
      "execution_count": null,
      "outputs": [
        {
          "output_type": "stream",
          "name": "stdout",
          "text": [
            "Jumlah baris sebelum memfilter outlier: 4250\n",
            "\n",
            "Jumlah outlier account_length: 20\n",
            "Jumlah outlier number_vmail_messages: 106\n",
            "Jumlah outlier total_day_minutes: 130\n",
            "Jumlah outlier total_day_calls: 155\n",
            "Jumlah outlier total_day_charge: 156\n",
            "Jumlah outlier total_eve_minutes: 189\n",
            "Jumlah outlier total_eve_calls: 212\n",
            "Jumlah outlier total_eve_charge: 212\n",
            "Jumlah outlier total_night_minutes: 249\n",
            "Jumlah outlier total_night_calls: 279\n",
            "Jumlah outlier total_night_charge: 279\n",
            "Jumlah outlier total_intl_minutes: 339\n",
            "Jumlah outlier total_intl_calls: 430\n",
            "Jumlah outlier total_intl_charge: 430\n",
            "Jumlah outlier number_customer_service_calls: 735\n",
            "\n",
            "Jumlah baris jika memfilter outlier: 3515\n"
          ]
        }
      ]
    },
    {
      "cell_type": "code",
      "source": [
        "plt.figure(figsize=(15,7))\n",
        "sns.boxplot(data=df, width=0.8, orient='h')"
      ],
      "metadata": {
        "colab": {
          "base_uri": "https://localhost:8080/",
          "height": 439
        },
        "id": "Mn2l_c3Jyeoy",
        "outputId": "9bbf095c-d876-4c66-8e42-52fcc5d350ce"
      },
      "execution_count": null,
      "outputs": [
        {
          "output_type": "execute_result",
          "data": {
            "text/plain": [
              "<matplotlib.axes._subplots.AxesSubplot at 0x7f7de311d390>"
            ]
          },
          "metadata": {},
          "execution_count": 16
        },
        {
          "output_type": "display_data",
          "data": {
            "text/plain": [
              "<Figure size 1080x504 with 1 Axes>"
            ],
            "image/png": "[encoded data removed]"
          },
          "metadata": {
            "needs_background": "light"
          }
        }
      ]
    },
    {
      "cell_type": "markdown",
      "source": [
        "## Feature Selection"
      ],
      "metadata": {
        "id": "LZvKBQPSYzo4"
      }
    },
    {
      "cell_type": "code",
      "source": [
        "y = df['churn']\n",
        "df = df.drop('churn', axis=1)"
      ],
      "metadata": {
        "id": "CgKPJn4ng05w"
      },
      "execution_count": null,
      "outputs": []
    },
    {
      "cell_type": "markdown",
      "source": [
        "### Kolom Numerik"
      ],
      "metadata": {
        "id": "VKpsTvVtbs_X"
      }
    },
    {
      "cell_type": "code",
      "source": [
        "cor = df.corr()\n",
        "plt.figure(figsize=(15,10))\n",
        "sns.heatmap(cor.round(3),annot=True,cmap='coolwarm')\n",
        "plt.show()"
      ],
      "metadata": {
        "colab": {
          "base_uri": "https://localhost:8080/",
          "height": 745
        },
        "id": "v8mU9-9FZifY",
        "outputId": "7afdf671-334c-4069-e421-dc1e7c0915f5"
      },
      "execution_count": null,
      "outputs": [
        {
          "output_type": "display_data",
          "data": {
            "text/plain": [
              "<Figure size 1080x720 with 2 Axes>"
            ],
            "image/png": "[encoded data removed]"
          },
          "metadata": {
            "needs_background": "light"
          }
        }
      ]
    },
    {
      "cell_type": "markdown",
      "source": [
        "- total day/eve/night/intl charge dan total day/eve/night/intl minutes dapat dipilih salah satu karena nilai korelasi = 1"
      ],
      "metadata": {
        "id": "rJcud6WuZpYd"
      }
    },
    {
      "cell_type": "markdown",
      "source": [
        "#### ANOVA f-test"
      ],
      "metadata": {
        "id": "Rn-jm7k1efLY"
      }
    },
    {
      "cell_type": "code",
      "source": [
        "Xnum = df.select_dtypes([np.number])"
      ],
      "metadata": {
        "id": "g_fHWl8Q1I-p"
      },
      "execution_count": null,
      "outputs": []
    },
    {
      "cell_type": "code",
      "source": [
        "fs = SelectKBest(score_func=f_classif, k='all')\n",
        "fs.fit(Xnum, y)"
      ],
      "metadata": {
        "colab": {
          "base_uri": "https://localhost:8080/"
        },
        "id": "Z1sgtHwPgN4N",
        "outputId": "783142e9-45e6-4b79-dd61-e0b4ed9338fa"
      },
      "execution_count": null,
      "outputs": [
        {
          "output_type": "execute_result",
          "data": {
            "text/plain": [
              "SelectKBest(k='all')"
            ]
          },
          "metadata": {},
          "execution_count": 21
        }
      ]
    },
    {
      "cell_type": "code",
      "source": [
        "for i in range(len(fs.pvalues_)):\n",
        "  # Dipilih kolom dengan pvalue < 0.05\n",
        "  if fs.pvalues_[i] < 0.05:\n",
        "\t  print('%s: %f' % (num_cols[i], fs.pvalues_[i]))"
      ],
      "metadata": {
        "colab": {
          "base_uri": "https://localhost:8080/"
        },
        "id": "BKAJ-Bs8lnnb",
        "outputId": "a9c42c73-4b0d-45eb-f773-bbbd64d92fed"
      },
      "execution_count": null,
      "outputs": [
        {
          "output_type": "stream",
          "name": "stdout",
          "text": [
            "number_vmail_messages: 0.000000\n",
            "total_day_minutes: 0.000000\n",
            "total_day_charge: 0.000000\n",
            "total_eve_minutes: 0.000000\n",
            "total_eve_charge: 0.000000\n",
            "total_night_minutes: 0.002352\n",
            "total_night_charge: 0.002355\n",
            "total_intl_minutes: 0.000319\n",
            "total_intl_calls: 0.025201\n",
            "total_intl_charge: 0.000320\n",
            "number_customer_service_calls: 0.000000\n"
          ]
        }
      ]
    },
    {
      "cell_type": "markdown",
      "source": [
        "Kolom num yang akan digunakan : \n",
        "number_vmail_messages, total_day_minutes, total_eve_minutes, total_night_minutes, total_intl_minutes, total_intl_calls, number_customer_service_calls"
      ],
      "metadata": {
        "id": "hlAhlsTomftW"
      }
    },
    {
      "cell_type": "markdown",
      "source": [
        "### Kolom Kategori"
      ],
      "metadata": {
        "id": "I9fjyoYAnST5"
      }
    },
    {
      "cell_type": "markdown",
      "source": [
        "#### Chi2 test"
      ],
      "metadata": {
        "id": "iwvdRfQ1n56G"
      }
    },
    {
      "cell_type": "code",
      "source": [
        "Xcat = df.select_dtypes('object').columns\n",
        "Xcat"
      ],
      "metadata": {
        "id": "6b85ndMFkCd4",
        "colab": {
          "base_uri": "https://localhost:8080/"
        },
        "outputId": "b4804b16-7313-43e8-9cc1-dd241dd7e045"
      },
      "execution_count": null,
      "outputs": [
        {
          "output_type": "execute_result",
          "data": {
            "text/plain": [
              "Index(['state', 'area_code', 'international_plan', 'voice_mail_plan'], dtype='object')"
            ]
          },
          "metadata": {},
          "execution_count": 23
        }
      ]
    },
    {
      "cell_type": "code",
      "source": [
        "from sklearn import preprocessing\n",
        "label_encoder = preprocessing.LabelEncoder()"
      ],
      "metadata": {
        "id": "qe0-QcVN15Xd"
      },
      "execution_count": null,
      "outputs": []
    },
    {
      "cell_type": "code",
      "source": [
        "for col in Xcat:\n",
        "  df[col] = label_encoder.fit_transform(df[col])"
      ],
      "metadata": {
        "id": "IqO3kHFO2E30"
      },
      "execution_count": null,
      "outputs": []
    },
    {
      "cell_type": "code",
      "source": [
        "test = SelectKBest(score_func=chi2, k='all')\n",
        "fit = test.fit(df[Xcat], y)\n",
        "fit.scores_"
      ],
      "metadata": {
        "colab": {
          "base_uri": "https://localhost:8080/"
        },
        "id": "xNPXqNDJqQkI",
        "outputId": "38830868-1ba3-42ab-e834-f98ea1acef73"
      },
      "execution_count": null,
      "outputs": [
        {
          "output_type": "execute_result",
          "data": {
            "text/plain": [
              "array([1.83168237e+00, 2.46780160e-01, 2.58635794e+02, 4.12424847e+01])"
            ]
          },
          "metadata": {},
          "execution_count": 26
        }
      ]
    },
    {
      "cell_type": "code",
      "source": [
        "for i in range(len(fit.pvalues_)):\n",
        "  if fit.pvalues_[i] < 0.05:\n",
        "\t  print('%s: %f' % (Xcat[i], fit.pvalues_[i]))"
      ],
      "metadata": {
        "colab": {
          "base_uri": "https://localhost:8080/"
        },
        "id": "hVtj6e3PsAlJ",
        "outputId": "2fffd0b1-eb71-4224-db0e-f91ca13fc698"
      },
      "execution_count": null,
      "outputs": [
        {
          "output_type": "stream",
          "name": "stdout",
          "text": [
            "international_plan: 0.000000\n",
            "voice_mail_plan: 0.000000\n"
          ]
        }
      ]
    },
    {
      "cell_type": "markdown",
      "source": [
        "Kolom cat yang akan digunakan : \n",
        "international_plan, voice_mail_plan.\n",
        "\n",
        "Karena voice mail plan berhubungan dengan number_vmail_messages (vmail_plan = yes berarti number_vmail > 0) sehingga hanya dipakai number_vmail_messages"
      ],
      "metadata": {
        "id": "V_t4EWN9s0ca"
      }
    },
    {
      "cell_type": "code",
      "source": [
        "columns_fs = ['number_vmail_messages', \n",
        "              'total_day_minutes', \n",
        "              'total_eve_minutes', \n",
        "              'total_night_minutes', \n",
        "              'total_intl_minutes', \n",
        "              'total_intl_calls', \n",
        "              'number_customer_service_calls',\n",
        "              'international_plan']\n",
        "\n",
        "X = df[columns_fs]"
      ],
      "metadata": {
        "id": "nFXLh0AotSmD"
      },
      "execution_count": null,
      "outputs": []
    },
    {
      "cell_type": "code",
      "source": [
        "X.head(10)"
      ],
      "metadata": {
        "colab": {
          "base_uri": "https://localhost:8080/",
          "height": 427
        },
        "id": "DYk_isA13asz",
        "outputId": "fbfda70b-2af2-45d6-e952-e6f869d388b8"
      },
      "execution_count": null,
      "outputs": [
        {
          "output_type": "execute_result",
          "data": {
            "text/plain": [
              "   number_vmail_messages  total_day_minutes  total_eve_minutes  \\\n",
              "0                     26              161.6              195.5   \n",
              "1                      0              243.4              121.2   \n",
              "2                      0              299.4               61.9   \n",
              "3                      0              166.7              148.3   \n",
              "4                     24              218.2              348.5   \n",
              "5                      0              157.0              103.1   \n",
              "6                      0              184.5              351.6   \n",
              "7                     37              258.6              222.0   \n",
              "8                      0              129.1              228.5   \n",
              "9                      0              187.7              163.4   \n",
              "\n",
              "   total_night_minutes  total_intl_minutes  total_intl_calls  \\\n",
              "0                254.4                13.7                 3   \n",
              "1                162.6                12.2                 5   \n",
              "2                196.9                 6.6                 7   \n",
              "3                186.9                10.1                 3   \n",
              "4                212.6                 7.5                 7   \n",
              "5                211.8                 7.1                 6   \n",
              "6                215.8                 8.7                 4   \n",
              "7                326.4                11.2                 5   \n",
              "8                208.8                12.7                 6   \n",
              "9                196.0                 9.1                 5   \n",
              "\n",
              "   number_customer_service_calls  international_plan  \n",
              "0                              1                   0  \n",
              "1                              0                   0  \n",
              "2                              2                   1  \n",
              "3                              3                   1  \n",
              "4                              3                   0  \n",
              "5                              0                   1  \n",
              "6                              1                   0  \n",
              "7                              0                   1  \n",
              "8                              4                   0  \n",
              "9                              0                   0  "
            ],
            "text/html": [
              "\n",
              "  <div id=\"df-7533e368-c1ff-48d3-bc98-986b8c0d78b8\">\n",
              "    <div class=\"colab-df-container\">\n",
              "      <div>\n",
              "<style scoped>\n",
              "    .dataframe tbody tr th:only-of-type {\n",
              "        vertical-align: middle;\n",
              "    }\n",
              "\n",
              "    .dataframe tbody tr th {\n",
              "        vertical-align: top;\n",
              "    }\n",
              "\n",
              "    .dataframe thead th {\n",
              "        text-align: right;\n",
              "    }\n",
              "</style>\n",
              "<table border=\"1\" class=\"dataframe\">\n",
              "  <thead>\n",
              "    <tr style=\"text-align: right;\">\n",
              "      <th></th>\n",
              "      <th>number_vmail_messages</th>\n",
              "      <th>total_day_minutes</th>\n",
              "      <th>total_eve_minutes</th>\n",
              "      <th>total_night_minutes</th>\n",
              "      <th>total_intl_minutes</th>\n",
              "      <th>total_intl_calls</th>\n",
              "      <th>number_customer_service_calls</th>\n",
              "      <th>international_plan</th>\n",
              "    </tr>\n",
              "  </thead>\n",
              "  <tbody>\n",
              "    <tr>\n",
              "      <th>0</th>\n",
              "      <td>26</td>\n",
              "      <td>161.6</td>\n",
              "      <td>195.5</td>\n",
              "      <td>254.4</td>\n",
              "      <td>13.7</td>\n",
              "      <td>3</td>\n",
              "      <td>1</td>\n",
              "      <td>0</td>\n",
              "    </tr>\n",
              "    <tr>\n",
              "      <th>1</th>\n",
              "      <td>0</td>\n",
              "      <td>243.4</td>\n",
              "      <td>121.2</td>\n",
              "      <td>162.6</td>\n",
              "      <td>12.2</td>\n",
              "      <td>5</td>\n",
              "      <td>0</td>\n",
              "      <td>0</td>\n",
              "    </tr>\n",
              "    <tr>\n",
              "      <th>2</th>\n",
              "      <td>0</td>\n",
              "      <td>299.4</td>\n",
              "      <td>61.9</td>\n",
              "      <td>196.9</td>\n",
              "      <td>6.6</td>\n",
              "      <td>7</td>\n",
              "      <td>2</td>\n",
              "      <td>1</td>\n",
              "    </tr>\n",
              "    <tr>\n",
              "      <th>3</th>\n",
              "      <td>0</td>\n",
              "      <td>166.7</td>\n",
              "      <td>148.3</td>\n",
              "      <td>186.9</td>\n",
              "      <td>10.1</td>\n",
              "      <td>3</td>\n",
              "      <td>3</td>\n",
              "      <td>1</td>\n",
              "    </tr>\n",
              "    <tr>\n",
              "      <th>4</th>\n",
              "      <td>24</td>\n",
              "      <td>218.2</td>\n",
              "      <td>348.5</td>\n",
              "      <td>212.6</td>\n",
              "      <td>7.5</td>\n",
              "      <td>7</td>\n",
              "      <td>3</td>\n",
              "      <td>0</td>\n",
              "    </tr>\n",
              "    <tr>\n",
              "      <th>5</th>\n",
              "      <td>0</td>\n",
              "      <td>157.0</td>\n",
              "      <td>103.1</td>\n",
              "      <td>211.8</td>\n",
              "      <td>7.1</td>\n",
              "      <td>6</td>\n",
              "      <td>0</td>\n",
              "      <td>1</td>\n",
              "    </tr>\n",
              "    <tr>\n",
              "      <th>6</th>\n",
              "      <td>0</td>\n",
              "      <td>184.5</td>\n",
              "      <td>351.6</td>\n",
              "      <td>215.8</td>\n",
              "      <td>8.7</td>\n",
              "      <td>4</td>\n",
              "      <td>1</td>\n",
              "      <td>0</td>\n",
              "    </tr>\n",
              "    <tr>\n",
              "      <th>7</th>\n",
              "      <td>37</td>\n",
              "      <td>258.6</td>\n",
              "      <td>222.0</td>\n",
              "      <td>326.4</td>\n",
              "      <td>11.2</td>\n",
              "      <td>5</td>\n",
              "      <td>0</td>\n",
              "      <td>1</td>\n",
              "    </tr>\n",
              "    <tr>\n",
              "      <th>8</th>\n",
              "      <td>0</td>\n",
              "      <td>129.1</td>\n",
              "      <td>228.5</td>\n",
              "      <td>208.8</td>\n",
              "      <td>12.7</td>\n",
              "      <td>6</td>\n",
              "      <td>4</td>\n",
              "      <td>0</td>\n",
              "    </tr>\n",
              "    <tr>\n",
              "      <th>9</th>\n",
              "      <td>0</td>\n",
              "      <td>187.7</td>\n",
              "      <td>163.4</td>\n",
              "      <td>196.0</td>\n",
              "      <td>9.1</td>\n",
              "      <td>5</td>\n",
              "      <td>0</td>\n",
              "      <td>0</td>\n",
              "    </tr>\n",
              "  </tbody>\n",
              "</table>\n",
              "</div>\n",
              "      <button class=\"colab-df-convert\" onclick=\"convertToInteractive('df-7533e368-c1ff-48d3-bc98-986b8c0d78b8')\"\n",
              "              title=\"Convert this dataframe to an interactive table.\"\n",
              "              style=\"display:none;\">\n",
              "        \n",
              "  <svg xmlns=\"http://www.w3.org/2000/svg\" height=\"24px\"viewBox=\"0 0 24 24\"\n",
              "       width=\"24px\">\n",
              "    <path d=\"M0 0h24v24H0V0z\" fill=\"none\"/>\n",
              "    <path d=\"M18.56 5.44l.94 2.06.94-2.06 2.06-.94-2.06-.94-.94-2.06-.94 2.06-2.06.94zm-11 1L8.5 8.5l.94-2.06 2.06-.94-2.06-.94L8.5 2.5l-.94 2.06-2.06.94zm10 10l.94 2.06.94-2.06 2.06-.94-2.06-.94-.94-2.06-.94 2.06-2.06.94z\"/><path d=\"M17.41 7.96l-1.37-1.37c-.4-.4-.92-.59-1.43-.59-.52 0-1.04.2-1.43.59L10.3 9.45l-7.72 7.72c-.78.78-.78 2.05 0 2.83L4 21.41c.39.39.9.59 1.41.59.51 0 1.02-.2 1.41-.59l7.78-7.78 2.81-2.81c.8-.78.8-2.07 0-2.86zM5.41 20L4 18.59l7.72-7.72 1.47 1.35L5.41 20z\"/>\n",
              "  </svg>\n",
              "      </button>\n",
              "      \n",
              "  <style>\n",
              "    .colab-df-container {\n",
              "      display:flex;\n",
              "      flex-wrap:wrap;\n",
              "      gap: 12px;\n",
              "    }\n",
              "\n",
              "    .colab-df-convert {\n",
              "      background-color: #E8F0FE;\n",
              "      border: none;\n",
              "      border-radius: 50%;\n",
              "      cursor: pointer;\n",
              "      display: none;\n",
              "      fill: #1967D2;\n",
              "      height: 32px;\n",
              "      padding: 0 0 0 0;\n",
              "      width: 32px;\n",
              "    }\n",
              "\n",
              "    .colab-df-convert:hover {\n",
              "      background-color: #E2EBFA;\n",
              "      box-shadow: 0px 1px 2px rgba(60, 64, 67, 0.3), 0px 1px 3px 1px rgba(60, 64, 67, 0.15);\n",
              "      fill: #174EA6;\n",
              "    }\n",
              "\n",
              "    [theme=dark] .colab-df-convert {\n",
              "      background-color: #3B4455;\n",
              "      fill: #D2E3FC;\n",
              "    }\n",
              "\n",
              "    [theme=dark] .colab-df-convert:hover {\n",
              "      background-color: #434B5C;\n",
              "      box-shadow: 0px 1px 3px 1px rgba(0, 0, 0, 0.15);\n",
              "      filter: drop-shadow(0px 1px 2px rgba(0, 0, 0, 0.3));\n",
              "      fill: #FFFFFF;\n",
              "    }\n",
              "  </style>\n",
              "\n",
              "      <script>\n",
              "        const buttonEl =\n",
              "          document.querySelector('#df-7533e368-c1ff-48d3-bc98-986b8c0d78b8 button.colab-df-convert');\n",
              "        buttonEl.style.display =\n",
              "          google.colab.kernel.accessAllowed ? 'block' : 'none';\n",
              "\n",
              "        async function convertToInteractive(key) {\n",
              "          const element = document.querySelector('#df-7533e368-c1ff-48d3-bc98-986b8c0d78b8');\n",
              "          const dataTable =\n",
              "            await google.colab.kernel.invokeFunction('convertToInteractive',\n",
              "                                                     [key], {});\n",
              "          if (!dataTable) return;\n",
              "\n",
              "          const docLinkHtml = 'Like what you see? Visit the ' +\n",
              "            '<a target=\"_blank\" href=https://colab.research.google.com/notebooks/data_table.ipynb>data table notebook</a>'\n",
              "            + ' to learn more about interactive tables.';\n",
              "          element.innerHTML = '';\n",
              "          dataTable['output_type'] = 'display_data';\n",
              "          await google.colab.output.renderOutput(dataTable, element);\n",
              "          const docLink = document.createElement('div');\n",
              "          docLink.innerHTML = docLinkHtml;\n",
              "          element.appendChild(docLink);\n",
              "        }\n",
              "      </script>\n",
              "    </div>\n",
              "  </div>\n",
              "  "
            ]
          },
          "metadata": {},
          "execution_count": 29
        }
      ]
    },
    {
      "cell_type": "markdown",
      "source": [
        "### Build Feature Matrix"
      ],
      "metadata": {
        "id": "HEPRHXn23ik9"
      }
    },
    {
      "cell_type": "code",
      "source": [
        "X = X.to_numpy().astype(np.float64)\n",
        "X"
      ],
      "metadata": {
        "colab": {
          "base_uri": "https://localhost:8080/"
        },
        "id": "AboHppAx3lzK",
        "outputId": "7d6a999f-0129-4517-fcf6-44ede731b72a"
      },
      "execution_count": null,
      "outputs": [
        {
          "output_type": "execute_result",
          "data": {
            "text/plain": [
              "array([[ 26. , 161.6, 195.5, ...,   3. ,   1. ,   0. ],\n",
              "       [  0. , 243.4, 121.2, ...,   5. ,   0. ,   0. ],\n",
              "       [  0. , 299.4,  61.9, ...,   7. ,   2. ,   1. ],\n",
              "       ...,\n",
              "       [  0. , 170.7, 193.1, ...,   7. ,   1. ,   0. ],\n",
              "       [ 40. , 235.7, 223. , ...,   5. ,   2. ,   0. ],\n",
              "       [ 34. , 129.4, 267.1, ...,  16. ,   0. ,   0. ]])"
            ]
          },
          "metadata": {},
          "execution_count": 30
        }
      ]
    },
    {
      "cell_type": "code",
      "source": [
        "scaler = preprocessing.StandardScaler()\n",
        "X = scaler.fit_transform(X)\n",
        "X"
      ],
      "metadata": {
        "colab": {
          "base_uri": "https://localhost:8080/"
        },
        "id": "AJjP2geJ3r9b",
        "outputId": "761ab298-9bbb-4d3a-ae24-565c436bbcd9"
      },
      "execution_count": null,
      "outputs": [
        {
          "output_type": "execute_result",
          "data": {
            "text/plain": [
              "array([[ 1.36685697, -0.34550964, -0.09302489, ..., -0.57916393,\n",
              "        -0.42634613, -0.32054702],\n",
              "       [-0.56791143,  1.16913636, -1.57182002, ...,  0.2329267 ,\n",
              "        -1.1889602 , -0.32054702],\n",
              "       [-0.56791143,  2.20605783, -2.7520697 , ...,  1.04501732,\n",
              "         0.33626795,  3.11966717],\n",
              "       ...,\n",
              "       [-0.56791143, -0.1770099 , -0.14079216, ...,  1.04501732,\n",
              "        -0.42634613, -0.32054702],\n",
              "       [ 2.40865534,  1.02655966,  0.45430844, ...,  0.2329267 ,\n",
              "         0.33626795, -0.32054702],\n",
              "       [ 1.96217032, -0.94173948,  1.33203206, ...,  4.69942514,\n",
              "        -1.1889602 , -0.32054702]])"
            ]
          },
          "metadata": {},
          "execution_count": 31
        }
      ]
    },
    {
      "cell_type": "markdown",
      "source": [
        "# Pemodelan Data"
      ],
      "metadata": {
        "id": "nR4e4dqLuCQQ"
      }
    },
    {
      "cell_type": "markdown",
      "source": [
        "### Stratified Cross Validation"
      ],
      "metadata": {
        "id": "LGPOGjCn4SMo"
      }
    },
    {
      "cell_type": "code",
      "source": [
        "def stratified_cv(X, y, clf_class, shuffle=True, n_splits=10, **kwargs):\n",
        "    stratified_k_fold = StratifiedKFold(n_splits=n_splits, shuffle=shuffle, random_state=2)\n",
        "    y_pred = y.copy()\n",
        "    lst_f1_stratified = []\n",
        "    result = {}    \n",
        "\n",
        "    for train_index, test_index in stratified_k_fold.split(X,y): \n",
        "        X_train, X_test = X[train_index], X[test_index]\n",
        "        y_train, y_test = y[train_index], y[test_index]\n",
        "        clf = clf_class(**kwargs)\n",
        "        clf.fit(X_train,y_train)\n",
        "        y_pred = clf.predict(X_test)\n",
        "        lst_f1_stratified.append(metrics.f1_score(y_test, y_pred, pos_label='yes'))\n",
        "    \n",
        "    result['max'] = max(lst_f1_stratified)\n",
        "    result['min'] = min(lst_f1_stratified)\n",
        "    result['mean'] = mean(lst_f1_stratified)   \n",
        "    \n",
        "    return result   "
      ],
      "metadata": {
        "id": "MvHV8T2X4U0R"
      },
      "execution_count": null,
      "outputs": []
    },
    {
      "cell_type": "code",
      "source": [
        "print('F1-Score\\n')\n",
        "print('Gradient Boosting Classifier:\\n {}\\n'.format(stratified_cv(X, y, ensemble.GradientBoostingClassifier)))\n",
        "print('Support vector machine(SVM):\\n {}\\n'.format(stratified_cv(X, y, svm.SVC)))\n",
        "print('Random Forest Classifier:\\n {}\\n'.format(stratified_cv(X, y, ensemble.RandomForestClassifier)))\n",
        "print('K Nearest Neighbor Classifier:\\n {}\\n'.format(stratified_cv(X, y, neighbors.KNeighborsClassifier)))\n",
        "print('Logistic Regression:\\n {}\\n'.format(stratified_cv(X, y, linear_model.LogisticRegression)))"
      ],
      "metadata": {
        "colab": {
          "base_uri": "https://localhost:8080/"
        },
        "id": "h9HNSRUm7PBC",
        "outputId": "6e846cfd-a222-434a-89eb-36fefa13e3f7"
      },
      "execution_count": null,
      "outputs": [
        {
          "output_type": "stream",
          "name": "stdout",
          "text": [
            "F1-Score\n",
            "\n",
            "Gradient Boosting Classifier:\n",
            " {'max': 0.8869565217391303, 'min': 0.7216494845360825, 'mean': 0.8290709193565738}\n",
            "\n",
            "Support vector machine(SVM):\n",
            " {'max': 0.8113207547169811, 'min': 0.6947368421052631, 'mean': 0.7505010188793833}\n",
            "\n",
            "Random Forest Classifier:\n",
            " {'max': 0.9107142857142857, 'min': 0.7096774193548386, 'mean': 0.8305449802021899}\n",
            "\n",
            "K Nearest Neighbor Classifier:\n",
            " {'max': 0.712871287128713, 'min': 0.5348837209302325, 'mean': 0.6372702418002192}\n",
            "\n",
            "Logistic Regression:\n",
            " {'max': 0.35897435897435903, 'min': 0.2077922077922078, 'mean': 0.2989221960290813}\n",
            "\n"
          ]
        }
      ]
    },
    {
      "cell_type": "markdown",
      "source": [
        "Jika dilihat dari hasil mean f1-score model terbaik adalah Gradient Boosting Classifier dengan mean f1-score = 83%, maka digunakan model tersebut untuk data testing."
      ],
      "metadata": {
        "id": "NG_KRlwUehIU"
      }
    },
    {
      "cell_type": "markdown",
      "source": [
        "# Klasifikasi Data Test"
      ],
      "metadata": {
        "id": "g1F7Zj1XfDEh"
      }
    },
    {
      "cell_type": "code",
      "source": [
        "X_test = df_test[columns_fs]\n",
        "X_test['international_plan'] = label_encoder.fit_transform(X_test['international_plan'])\n",
        "\n",
        "X_test = X_test.to_numpy().astype(np.float64)\n",
        "X_test = scaler.fit_transform(X_test)\n",
        "X_test"
      ],
      "metadata": {
        "colab": {
          "base_uri": "https://localhost:8080/"
        },
        "id": "dSnzndM-e7QE",
        "outputId": "7d7fa4e6-91eb-4557-8edd-e56f3b90c0ad"
      },
      "execution_count": null,
      "outputs": [
        {
          "output_type": "stream",
          "name": "stderr",
          "text": [
            "/usr/local/lib/python3.7/dist-packages/ipykernel_launcher.py:2: SettingWithCopyWarning: \n",
            "A value is trying to be set on a copy of a slice from a DataFrame.\n",
            "Try using .loc[row_indexer,col_indexer] = value instead\n",
            "\n",
            "See the caveats in the documentation: https://pandas.pydata.org/pandas-docs/stable/user_guide/indexing.html#returning-a-view-versus-a-copy\n",
            "  \n"
          ]
        },
        {
          "output_type": "execute_result",
          "data": {
            "text/plain": [
              "array([[ 1.17223958,  1.59039051, -0.11233349, ..., -0.61370155,\n",
              "        -0.49763904, -0.33825002],\n",
              "       [-0.59901452,  0.80689199,  0.33253137, ...,  0.62582133,\n",
              "        -1.28173416,  2.95639303],\n",
              "       [-0.59901452, -1.12273146,  1.9931045 , ...,  0.62582133,\n",
              "         1.85464633, -0.33825002],\n",
              "       ...,\n",
              "       [-0.59901452,  0.07036581,  1.02667395, ..., -1.02687584,\n",
              "         1.07055121, -0.33825002],\n",
              "       [-0.59901452, -0.74883169, -0.58404364, ..., -0.20052726,\n",
              "        -0.49763904, -0.33825002],\n",
              "       [-0.59901452,  0.1567949 , -0.60513637, ...,  0.62582133,\n",
              "        -1.28173416, -0.33825002]])"
            ]
          },
          "metadata": {},
          "execution_count": 37
        }
      ]
    },
    {
      "cell_type": "code",
      "source": [
        "clf = ensemble.GradientBoostingClassifier()\n",
        "clf.fit(X, y)\n",
        "y_test_pred = clf.predict(X_test)"
      ],
      "metadata": {
        "id": "cp4rHDCYfRxr"
      },
      "execution_count": null,
      "outputs": []
    },
    {
      "cell_type": "code",
      "source": [
        "# Hasil\n",
        "\n",
        "X_t = df_test\n",
        "X_t['churn_pred'] = y_test_pred\n",
        "X_t"
      ],
      "metadata": {
        "colab": {
          "base_uri": "https://localhost:8080/",
          "height": 487
        },
        "id": "SQO29KGJgb29",
        "outputId": "1fc8aecd-331b-4538-d0c6-977f174a8449"
      },
      "execution_count": null,
      "outputs": [
        {
          "output_type": "execute_result",
          "data": {
            "text/plain": [
              "      id state  account_length      area_code international_plan  \\\n",
              "0      1    KS             128  area_code_415                 no   \n",
              "1      2    AL             118  area_code_510                yes   \n",
              "2      3    IA              62  area_code_415                 no   \n",
              "3      4    VT              93  area_code_510                 no   \n",
              "4      5    NE             174  area_code_415                 no   \n",
              "..   ...   ...             ...            ...                ...   \n",
              "745  746    GA             130  area_code_415                 no   \n",
              "746  747    WA              73  area_code_408                 no   \n",
              "747  748    WV             152  area_code_415                 no   \n",
              "748  749    DC              61  area_code_415                 no   \n",
              "749  750    DC             109  area_code_510                 no   \n",
              "\n",
              "    voice_mail_plan  number_vmail_messages  total_day_minutes  \\\n",
              "0               yes                     25              265.1   \n",
              "1                no                      0              223.4   \n",
              "2                no                      0              120.7   \n",
              "3                no                      0              190.7   \n",
              "4                no                      0              124.3   \n",
              "..              ...                    ...                ...   \n",
              "745              no                      0              119.4   \n",
              "746              no                      0              177.2   \n",
              "747              no                      0              184.2   \n",
              "748              no                      0              140.6   \n",
              "749              no                      0              188.8   \n",
              "\n",
              "     total_day_calls  total_day_charge  ...  total_eve_calls  \\\n",
              "0                110             45.07  ...               99   \n",
              "1                 98             37.98  ...              101   \n",
              "2                 70             20.52  ...               76   \n",
              "3                114             32.42  ...              111   \n",
              "4                 76             21.13  ...              112   \n",
              "..               ...               ...  ...              ...   \n",
              "745               99             20.30  ...               97   \n",
              "746              118             30.12  ...               84   \n",
              "747               90             31.31  ...               73   \n",
              "748               89             23.90  ...              128   \n",
              "749               67             32.10  ...               92   \n",
              "\n",
              "     total_eve_charge  total_night_minutes  total_night_calls  \\\n",
              "0               16.78                244.7                 91   \n",
              "1               18.75                203.9                118   \n",
              "2               26.11                203.0                 99   \n",
              "3               18.55                129.6                121   \n",
              "4               23.55                250.7                115   \n",
              "..                ...                  ...                ...   \n",
              "745             19.24                202.7                111   \n",
              "746             22.99                241.8                112   \n",
              "747             21.83                213.6                113   \n",
              "748             14.69                212.4                 97   \n",
              "749             14.59                224.4                 89   \n",
              "\n",
              "     total_night_charge  total_intl_minutes  total_intl_calls  \\\n",
              "0                 11.01                10.0                 3   \n",
              "1                  9.18                 6.3                 6   \n",
              "2                  9.14                13.1                 6   \n",
              "3                  5.83                 8.1                 3   \n",
              "4                 11.28                15.5                 5   \n",
              "..                  ...                 ...               ...   \n",
              "745                9.12                11.3                 7   \n",
              "746               10.88                12.3                 2   \n",
              "747                9.61                14.7                 2   \n",
              "748                9.56                13.6                 4   \n",
              "749               10.10                 8.5                 6   \n",
              "\n",
              "     total_intl_charge  number_customer_service_calls  churn_pred  \n",
              "0                 2.70                              1          no  \n",
              "1                 1.70                              0          no  \n",
              "2                 3.54                              4         yes  \n",
              "3                 2.19                              3          no  \n",
              "4                 4.19                              3          no  \n",
              "..                 ...                            ...         ...  \n",
              "745               3.05                              0          no  \n",
              "746               3.32                              3          no  \n",
              "747               3.97                              3          no  \n",
              "748               3.67                              1          no  \n",
              "749               2.30                              0          no  \n",
              "\n",
              "[750 rows x 21 columns]"
            ],
            "text/html": [
              "\n",
              "  <div id=\"df-331d7174-c8e0-4551-a3c5-96721b397ac1\">\n",
              "    <div class=\"colab-df-container\">\n",
              "      <div>\n",
              "<style scoped>\n",
              "    .dataframe tbody tr th:only-of-type {\n",
              "        vertical-align: middle;\n",
              "    }\n",
              "\n",
              "    .dataframe tbody tr th {\n",
              "        vertical-align: top;\n",
              "    }\n",
              "\n",
              "    .dataframe thead th {\n",
              "        text-align: right;\n",
              "    }\n",
              "</style>\n",
              "<table border=\"1\" class=\"dataframe\">\n",
              "  <thead>\n",
              "    <tr style=\"text-align: right;\">\n",
              "      <th></th>\n",
              "      <th>id</th>\n",
              "      <th>state</th>\n",
              "      <th>account_length</th>\n",
              "      <th>area_code</th>\n",
              "      <th>international_plan</th>\n",
              "      <th>voice_mail_plan</th>\n",
              "      <th>number_vmail_messages</th>\n",
              "      <th>total_day_minutes</th>\n",
              "      <th>total_day_calls</th>\n",
              "      <th>total_day_charge</th>\n",
              "      <th>...</th>\n",
              "      <th>total_eve_calls</th>\n",
              "      <th>total_eve_charge</th>\n",
              "      <th>total_night_minutes</th>\n",
              "      <th>total_night_calls</th>\n",
              "      <th>total_night_charge</th>\n",
              "      <th>total_intl_minutes</th>\n",
              "      <th>total_intl_calls</th>\n",
              "      <th>total_intl_charge</th>\n",
              "      <th>number_customer_service_calls</th>\n",
              "      <th>churn_pred</th>\n",
              "    </tr>\n",
              "  </thead>\n",
              "  <tbody>\n",
              "    <tr>\n",
              "      <th>0</th>\n",
              "      <td>1</td>\n",
              "      <td>KS</td>\n",
              "      <td>128</td>\n",
              "      <td>area_code_415</td>\n",
              "      <td>no</td>\n",
              "      <td>yes</td>\n",
              "      <td>25</td>\n",
              "      <td>265.1</td>\n",
              "      <td>110</td>\n",
              "      <td>45.07</td>\n",
              "      <td>...</td>\n",
              "      <td>99</td>\n",
              "      <td>16.78</td>\n",
              "      <td>244.7</td>\n",
              "      <td>91</td>\n",
              "      <td>11.01</td>\n",
              "      <td>10.0</td>\n",
              "      <td>3</td>\n",
              "      <td>2.70</td>\n",
              "      <td>1</td>\n",
              "      <td>no</td>\n",
              "    </tr>\n",
              "    <tr>\n",
              "      <th>1</th>\n",
              "      <td>2</td>\n",
              "      <td>AL</td>\n",
              "      <td>118</td>\n",
              "      <td>area_code_510</td>\n",
              "      <td>yes</td>\n",
              "      <td>no</td>\n",
              "      <td>0</td>\n",
              "      <td>223.4</td>\n",
              "      <td>98</td>\n",
              "      <td>37.98</td>\n",
              "      <td>...</td>\n",
              "      <td>101</td>\n",
              "      <td>18.75</td>\n",
              "      <td>203.9</td>\n",
              "      <td>118</td>\n",
              "      <td>9.18</td>\n",
              "      <td>6.3</td>\n",
              "      <td>6</td>\n",
              "      <td>1.70</td>\n",
              "      <td>0</td>\n",
              "      <td>no</td>\n",
              "    </tr>\n",
              "    <tr>\n",
              "      <th>2</th>\n",
              "      <td>3</td>\n",
              "      <td>IA</td>\n",
              "      <td>62</td>\n",
              "      <td>area_code_415</td>\n",
              "      <td>no</td>\n",
              "      <td>no</td>\n",
              "      <td>0</td>\n",
              "      <td>120.7</td>\n",
              "      <td>70</td>\n",
              "      <td>20.52</td>\n",
              "      <td>...</td>\n",
              "      <td>76</td>\n",
              "      <td>26.11</td>\n",
              "      <td>203.0</td>\n",
              "      <td>99</td>\n",
              "      <td>9.14</td>\n",
              "      <td>13.1</td>\n",
              "      <td>6</td>\n",
              "      <td>3.54</td>\n",
              "      <td>4</td>\n",
              "      <td>yes</td>\n",
              "    </tr>\n",
              "    <tr>\n",
              "      <th>3</th>\n",
              "      <td>4</td>\n",
              "      <td>VT</td>\n",
              "      <td>93</td>\n",
              "      <td>area_code_510</td>\n",
              "      <td>no</td>\n",
              "      <td>no</td>\n",
              "      <td>0</td>\n",
              "      <td>190.7</td>\n",
              "      <td>114</td>\n",
              "      <td>32.42</td>\n",
              "      <td>...</td>\n",
              "      <td>111</td>\n",
              "      <td>18.55</td>\n",
              "      <td>129.6</td>\n",
              "      <td>121</td>\n",
              "      <td>5.83</td>\n",
              "      <td>8.1</td>\n",
              "      <td>3</td>\n",
              "      <td>2.19</td>\n",
              "      <td>3</td>\n",
              "      <td>no</td>\n",
              "    </tr>\n",
              "    <tr>\n",
              "      <th>4</th>\n",
              "      <td>5</td>\n",
              "      <td>NE</td>\n",
              "      <td>174</td>\n",
              "      <td>area_code_415</td>\n",
              "      <td>no</td>\n",
              "      <td>no</td>\n",
              "      <td>0</td>\n",
              "      <td>124.3</td>\n",
              "      <td>76</td>\n",
              "      <td>21.13</td>\n",
              "      <td>...</td>\n",
              "      <td>112</td>\n",
              "      <td>23.55</td>\n",
              "      <td>250.7</td>\n",
              "      <td>115</td>\n",
              "      <td>11.28</td>\n",
              "      <td>15.5</td>\n",
              "      <td>5</td>\n",
              "      <td>4.19</td>\n",
              "      <td>3</td>\n",
              "      <td>no</td>\n",
              "    </tr>\n",
              "    <tr>\n",
              "      <th>...</th>\n",
              "      <td>...</td>\n",
              "      <td>...</td>\n",
              "      <td>...</td>\n",
              "      <td>...</td>\n",
              "      <td>...</td>\n",
              "      <td>...</td>\n",
              "      <td>...</td>\n",
              "      <td>...</td>\n",
              "      <td>...</td>\n",
              "      <td>...</td>\n",
              "      <td>...</td>\n",
              "      <td>...</td>\n",
              "      <td>...</td>\n",
              "      <td>...</td>\n",
              "      <td>...</td>\n",
              "      <td>...</td>\n",
              "      <td>...</td>\n",
              "      <td>...</td>\n",
              "      <td>...</td>\n",
              "      <td>...</td>\n",
              "      <td>...</td>\n",
              "    </tr>\n",
              "    <tr>\n",
              "      <th>745</th>\n",
              "      <td>746</td>\n",
              "      <td>GA</td>\n",
              "      <td>130</td>\n",
              "      <td>area_code_415</td>\n",
              "      <td>no</td>\n",
              "      <td>no</td>\n",
              "      <td>0</td>\n",
              "      <td>119.4</td>\n",
              "      <td>99</td>\n",
              "      <td>20.30</td>\n",
              "      <td>...</td>\n",
              "      <td>97</td>\n",
              "      <td>19.24</td>\n",
              "      <td>202.7</td>\n",
              "      <td>111</td>\n",
              "      <td>9.12</td>\n",
              "      <td>11.3</td>\n",
              "      <td>7</td>\n",
              "      <td>3.05</td>\n",
              "      <td>0</td>\n",
              "      <td>no</td>\n",
              "    </tr>\n",
              "    <tr>\n",
              "      <th>746</th>\n",
              "      <td>747</td>\n",
              "      <td>WA</td>\n",
              "      <td>73</td>\n",
              "      <td>area_code_408</td>\n",
              "      <td>no</td>\n",
              "      <td>no</td>\n",
              "      <td>0</td>\n",
              "      <td>177.2</td>\n",
              "      <td>118</td>\n",
              "      <td>30.12</td>\n",
              "      <td>...</td>\n",
              "      <td>84</td>\n",
              "      <td>22.99</td>\n",
              "      <td>241.8</td>\n",
              "      <td>112</td>\n",
              "      <td>10.88</td>\n",
              "      <td>12.3</td>\n",
              "      <td>2</td>\n",
              "      <td>3.32</td>\n",
              "      <td>3</td>\n",
              "      <td>no</td>\n",
              "    </tr>\n",
              "    <tr>\n",
              "      <th>747</th>\n",
              "      <td>748</td>\n",
              "      <td>WV</td>\n",
              "      <td>152</td>\n",
              "      <td>area_code_415</td>\n",
              "      <td>no</td>\n",
              "      <td>no</td>\n",
              "      <td>0</td>\n",
              "      <td>184.2</td>\n",
              "      <td>90</td>\n",
              "      <td>31.31</td>\n",
              "      <td>...</td>\n",
              "      <td>73</td>\n",
              "      <td>21.83</td>\n",
              "      <td>213.6</td>\n",
              "      <td>113</td>\n",
              "      <td>9.61</td>\n",
              "      <td>14.7</td>\n",
              "      <td>2</td>\n",
              "      <td>3.97</td>\n",
              "      <td>3</td>\n",
              "      <td>no</td>\n",
              "    </tr>\n",
              "    <tr>\n",
              "      <th>748</th>\n",
              "      <td>749</td>\n",
              "      <td>DC</td>\n",
              "      <td>61</td>\n",
              "      <td>area_code_415</td>\n",
              "      <td>no</td>\n",
              "      <td>no</td>\n",
              "      <td>0</td>\n",
              "      <td>140.6</td>\n",
              "      <td>89</td>\n",
              "      <td>23.90</td>\n",
              "      <td>...</td>\n",
              "      <td>128</td>\n",
              "      <td>14.69</td>\n",
              "      <td>212.4</td>\n",
              "      <td>97</td>\n",
              "      <td>9.56</td>\n",
              "      <td>13.6</td>\n",
              "      <td>4</td>\n",
              "      <td>3.67</td>\n",
              "      <td>1</td>\n",
              "      <td>no</td>\n",
              "    </tr>\n",
              "    <tr>\n",
              "      <th>749</th>\n",
              "      <td>750</td>\n",
              "      <td>DC</td>\n",
              "      <td>109</td>\n",
              "      <td>area_code_510</td>\n",
              "      <td>no</td>\n",
              "      <td>no</td>\n",
              "      <td>0</td>\n",
              "      <td>188.8</td>\n",
              "      <td>67</td>\n",
              "      <td>32.10</td>\n",
              "      <td>...</td>\n",
              "      <td>92</td>\n",
              "      <td>14.59</td>\n",
              "      <td>224.4</td>\n",
              "      <td>89</td>\n",
              "      <td>10.10</td>\n",
              "      <td>8.5</td>\n",
              "      <td>6</td>\n",
              "      <td>2.30</td>\n",
              "      <td>0</td>\n",
              "      <td>no</td>\n",
              "    </tr>\n",
              "  </tbody>\n",
              "</table>\n",
              "<p>750 rows × 21 columns</p>\n",
              "</div>\n",
              "      <button class=\"colab-df-convert\" onclick=\"convertToInteractive('df-331d7174-c8e0-4551-a3c5-96721b397ac1')\"\n",
              "              title=\"Convert this dataframe to an interactive table.\"\n",
              "              style=\"display:none;\">\n",
              "        \n",
              "  <svg xmlns=\"http://www.w3.org/2000/svg\" height=\"24px\"viewBox=\"0 0 24 24\"\n",
              "       width=\"24px\">\n",
              "    <path d=\"M0 0h24v24H0V0z\" fill=\"none\"/>\n",
              "    <path d=\"M18.56 5.44l.94 2.06.94-2.06 2.06-.94-2.06-.94-.94-2.06-.94 2.06-2.06.94zm-11 1L8.5 8.5l.94-2.06 2.06-.94-2.06-.94L8.5 2.5l-.94 2.06-2.06.94zm10 10l.94 2.06.94-2.06 2.06-.94-2.06-.94-.94-2.06-.94 2.06-2.06.94z\"/><path d=\"M17.41 7.96l-1.37-1.37c-.4-.4-.92-.59-1.43-.59-.52 0-1.04.2-1.43.59L10.3 9.45l-7.72 7.72c-.78.78-.78 2.05 0 2.83L4 21.41c.39.39.9.59 1.41.59.51 0 1.02-.2 1.41-.59l7.78-7.78 2.81-2.81c.8-.78.8-2.07 0-2.86zM5.41 20L4 18.59l7.72-7.72 1.47 1.35L5.41 20z\"/>\n",
              "  </svg>\n",
              "      </button>\n",
              "      \n",
              "  <style>\n",
              "    .colab-df-container {\n",
              "      display:flex;\n",
              "      flex-wrap:wrap;\n",
              "      gap: 12px;\n",
              "    }\n",
              "\n",
              "    .colab-df-convert {\n",
              "      background-color: #E8F0FE;\n",
              "      border: none;\n",
              "      border-radius: 50%;\n",
              "      cursor: pointer;\n",
              "      display: none;\n",
              "      fill: #1967D2;\n",
              "      height: 32px;\n",
              "      padding: 0 0 0 0;\n",
              "      width: 32px;\n",
              "    }\n",
              "\n",
              "    .colab-df-convert:hover {\n",
              "      background-color: #E2EBFA;\n",
              "      box-shadow: 0px 1px 2px rgba(60, 64, 67, 0.3), 0px 1px 3px 1px rgba(60, 64, 67, 0.15);\n",
              "      fill: #174EA6;\n",
              "    }\n",
              "\n",
              "    [theme=dark] .colab-df-convert {\n",
              "      background-color: #3B4455;\n",
              "      fill: #D2E3FC;\n",
              "    }\n",
              "\n",
              "    [theme=dark] .colab-df-convert:hover {\n",
              "      background-color: #434B5C;\n",
              "      box-shadow: 0px 1px 3px 1px rgba(0, 0, 0, 0.15);\n",
              "      filter: drop-shadow(0px 1px 2px rgba(0, 0, 0, 0.3));\n",
              "      fill: #FFFFFF;\n",
              "    }\n",
              "  </style>\n",
              "\n",
              "      <script>\n",
              "        const buttonEl =\n",
              "          document.querySelector('#df-331d7174-c8e0-4551-a3c5-96721b397ac1 button.colab-df-convert');\n",
              "        buttonEl.style.display =\n",
              "          google.colab.kernel.accessAllowed ? 'block' : 'none';\n",
              "\n",
              "        async function convertToInteractive(key) {\n",
              "          const element = document.querySelector('#df-331d7174-c8e0-4551-a3c5-96721b397ac1');\n",
              "          const dataTable =\n",
              "            await google.colab.kernel.invokeFunction('convertToInteractive',\n",
              "                                                     [key], {});\n",
              "          if (!dataTable) return;\n",
              "\n",
              "          const docLinkHtml = 'Like what you see? Visit the ' +\n",
              "            '<a target=\"_blank\" href=https://colab.research.google.com/notebooks/data_table.ipynb>data table notebook</a>'\n",
              "            + ' to learn more about interactive tables.';\n",
              "          element.innerHTML = '';\n",
              "          dataTable['output_type'] = 'display_data';\n",
              "          await google.colab.output.renderOutput(dataTable, element);\n",
              "          const docLink = document.createElement('div');\n",
              "          docLink.innerHTML = docLinkHtml;\n",
              "          element.appendChild(docLink);\n",
              "        }\n",
              "      </script>\n",
              "    </div>\n",
              "  </div>\n",
              "  "
            ]
          },
          "metadata": {},
          "execution_count": 39
        }
      ]
    },
    {
      "cell_type": "code",
      "source": [
        "X_t.to_csv('hasil_test.csv')"
      ],
      "metadata": {
        "id": "tx3FqBERxu0D"
      },
      "execution_count": null,
      "outputs": []
    },
    {
      "cell_type": "code",
      "source": [
        "X_t['churn_pred'].value_counts()"
      ],
      "metadata": {
        "colab": {
          "base_uri": "https://localhost:8080/"
        },
        "id": "hb-sDD9Hg0cs",
        "outputId": "4e2b4560-19b2-4b9a-c87a-7fe379964fcc"
      },
      "execution_count": null,
      "outputs": [
        {
          "output_type": "execute_result",
          "data": {
            "text/plain": [
              "no     655\n",
              "yes     95\n",
              "Name: churn_pred, dtype: int64"
            ]
          },
          "metadata": {},
          "execution_count": 40
        }
      ]
    }
  ]
}